{
 "cells": [
  {
   "cell_type": "markdown",
   "metadata": {},
   "source": [
    "This project aims to leverage toy examples to illustrate how to build linear model, deep neural networks, convolutional nueral networds as well as recurrent neural networks by [Tensorflow](www.tensorflow.org). The dataset is famous handwritten digits dataset, namely [MNIST](http://yann.lecun.com/exdb/mnist/)."
   ]
  },
  {
   "cell_type": "code",
   "execution_count": 1,
   "metadata": {
    "collapsed": false
   },
   "outputs": [
    {
     "name": "stdout",
     "output_type": "stream",
     "text": [
      "Extracting MNIST_data/train-images-idx3-ubyte.gz\n",
      "Extracting MNIST_data/train-labels-idx1-ubyte.gz\n",
      "Extracting MNIST_data/t10k-images-idx3-ubyte.gz\n",
      "Extracting MNIST_data/t10k-labels-idx1-ubyte.gz\n"
     ]
    }
   ],
   "source": [
    "#Import required packages\n",
    "import tensorflow as tf\n",
    "import numpy as np\n",
    "from matplotlib import pyplot as plt\n",
    "%matplotlib inline\n",
    "#Load MNIST dataset\n",
    "import tensorflow.examples.tutorials.mnist.input_data as input_data\n",
    "mnist = input_data.read_data_sets(\"MNIST_data/\", one_hot=True)"
   ]
  },
  {
   "cell_type": "code",
   "execution_count": 2,
   "metadata": {
    "collapsed": false
   },
   "outputs": [
    {
     "name": "stdout",
     "output_type": "stream",
     "text": [
      "(55000, 784)\n"
     ]
    }
   ],
   "source": [
    "print(mnist.train.images.shape)"
   ]
  },
  {
   "cell_type": "code",
   "execution_count": 3,
   "metadata": {
    "collapsed": false
   },
   "outputs": [
    {
     "name": "stdout",
     "output_type": "stream",
     "text": [
      "(10000, 784)\n"
     ]
    }
   ],
   "source": [
    "print(mnist.test.images.shape)"
   ]
  },
  {
   "cell_type": "markdown",
   "metadata": {},
   "source": [
    "There are 55000 items of training data, and 10000 items of testing data. Let's take a look at the samples"
   ]
  },
  {
   "cell_type": "code",
   "execution_count": 4,
   "metadata": {
    "collapsed": false
   },
   "outputs": [
    {
     "name": "stdout",
     "output_type": "stream",
     "text": [
      "[ 0.  0.  0.  0.  0.  0.  0.  0.  1.  0.]\n"
     ]
    },
    {
     "data": {
      "image/png": "[encoded data removed]",
      "text/plain": [
       "<matplotlib.figure.Figure at 0x226e4ac2320>"
      ]
     },
     "metadata": {},
     "output_type": "display_data"
    }
   ],
   "source": [
    "plt.imshow(mnist.train.images[5].reshape([28, 28]))\n",
    "print(mnist.train.labels[5])"
   ]
  },
  {
   "cell_type": "code",
   "execution_count": 5,
   "metadata": {
    "collapsed": false
   },
   "outputs": [
    {
     "name": "stdout",
     "output_type": "stream",
     "text": [
      "[ 0.  0.  0.  1.  0.  0.  0.  0.  0.  0.]\n"
     ]
    },
    {
     "data": {
      "image/png": "[encoded data removed]",
      "text/plain": [
       "<matplotlib.figure.Figure at 0x226e4ac20b8>"
      ]
     },
     "metadata": {},
     "output_type": "display_data"
    }
   ],
   "source": [
    "plt.imshow(mnist.train.images[1].reshape([28, 28]))\n",
    "print(mnist.train.labels[1])"
   ]
  },
  {
   "cell_type": "code",
   "execution_count": 6,
   "metadata": {
    "collapsed": true
   },
   "outputs": [],
   "source": [
    "n_tr = mnist.train.images.shape[0]# number of training samples\n",
    "n_ts = mnist.test.images.shape[0]#number of testing samples\n",
    "n_pixel = mnist.train.images.shape[1]"
   ]
  },
  {
   "cell_type": "markdown",
   "metadata": {},
   "source": [
    "## Linear Model"
   ]
  },
  {
   "cell_type": "markdown",
   "metadata": {
    "collapsed": true
   },
   "source": [
    "Here's an simple linear model to do classification on MNIST."
   ]
  },
  {
   "cell_type": "code",
   "execution_count": 32,
   "metadata": {
    "collapsed": true
   },
   "outputs": [],
   "source": [
    "#Create a linear graph, define its architecture in terms of nodes and compuatations\n",
    "graph_linear = tf.Graph()\n",
    "with graph_linear.as_default():\n",
    "    #Define input placeholder and target placeholder\n",
    "    x = tf.placeholder(tf.float32, [None, 784], name='x_placeholder')\n",
    "    y_ = tf.placeholder(tf.float32, [None,10], name='y_placeholder')\n",
    "    #Define a linear model structure\n",
    "    def linearModel(x):\n",
    "        #Create weights and biases\n",
    "        W = tf.Variable(tf.zeros([784,10]), name='weights')\n",
    "        b = tf.Variable(tf.zeros([10]), name='biases')\n",
    "        #Softmax output \n",
    "        y = tf.nn.softmax(tf.matmul(x,W) + b)\n",
    "        return y\n",
    "    y = linearModel(x)\n",
    "    #Cross entropy as the loss\n",
    "    cross_entropy = -tf.reduce_sum(y_*tf.log(y))\n",
    "    #Use gradient descent method to optmize\n",
    "    train_step = tf.train.GradientDescentOptimizer(0.01).minimize(cross_entropy)\n",
    "    correct_prediction = tf.equal(tf.argmax(y,1), tf.argmax(y_,1))\n",
    "    accuracy = tf.reduce_mean(tf.cast(correct_prediction, \"float\"))"
   ]
  },
  {
   "cell_type": "code",
   "execution_count": 33,
   "metadata": {
    "collapsed": false
   },
   "outputs": [
    {
     "name": "stdout",
     "output_type": "stream",
     "text": [
      "Test Accuracy： 0.3195\n",
      "Test Accuracy： 0.9114\n",
      "Test Accuracy： 0.9193\n",
      "Test Accuracy： 0.9178\n",
      "Test Accuracy： 0.9209\n",
      "Test Accuracy： 0.9116\n",
      "Test Accuracy： 0.9121\n",
      "Test Accuracy： 0.9087\n",
      "Test Accuracy： 0.9194\n",
      "Test Accuracy： 0.9096\n",
      "Test Accuracy： 0.9225\n",
      "Test Accuracy： 0.9206\n",
      "Test Accuracy： 0.9231\n",
      "Test Accuracy： 0.9219\n",
      "Test Accuracy： 0.9223\n",
      "Test Accuracy： 0.9164\n",
      "Test Accuracy： 0.9174\n",
      "Test Accuracy： 0.9161\n",
      "Test Accuracy： 0.9257\n",
      "Test Accuracy： 0.9118\n"
     ]
    }
   ],
   "source": [
    "e_pochs = 10\n",
    "batch_size = 64\n",
    "num_steps = int(n_tr/batch_size)\n",
    "#Create a session, in order to run the graph\n",
    "with tf.Session(graph=graph_linear) as sess:\n",
    "    #Initialize all the variables created above\n",
    "    init_op = tf.global_variables_initializer()\n",
    "    sess.run(init_op)\n",
    "    for _ in range(e_pochs):\n",
    "        for step in range(num_steps):\n",
    "            #offset = (step * batch_size) % (mnist.train.labels.shape[0] - batch_size)\n",
    "            #Feed the dataset to the placeholders     \n",
    "            batch_data, batch_labels = mnist.train.next_batch(batch_size)\n",
    "            #batch_data = mnist.train.images[offset:(offset + batch_size), :]\n",
    "            #batch_labels = mnist.train.labels[offset:(offset + batch_size), :]\n",
    "            #Pass the data to a dictionary\n",
    "            feed_dict = {x : batch_data, y_ : batch_labels}\n",
    "            #Train the model by feeding batch data\n",
    "            _, loss = sess.run([train_step, cross_entropy], feed_dict=feed_dict)\n",
    "            #Calculate acccuracy after 500 times training\n",
    "            if step%500 == 0:\n",
    "                result = sess.run(accuracy, feed_dict={x: mnist.test.images, y_: mnist.test.labels})\n",
    "                print(\"Test Accuracy：\", result)"
   ]
  },
  {
   "cell_type": "markdown",
   "metadata": {},
   "source": [
    "## Fully Connected Model\n",
    "\n",
    "This example uses several fully connected neural network layers to train the classification."
   ]
  },
  {
   "cell_type": "code",
   "execution_count": 34,
   "metadata": {
    "collapsed": false
   },
   "outputs": [],
   "source": [
    "#Created a fully connected graph\n",
    "graph_fully = tf.Graph()\n",
    "with graph_fully.as_default() as g:\n",
    "    #Define input placeholders\n",
    "    x = tf.placeholder(tf.float32, [None, 784])\n",
    "    y_ = tf.placeholder(tf.float32, [None,10])\n",
    "    num_class = y.shape[1].value\n",
    "    num_pixel = x.shape[1].value\n",
    "    #Define the architecture of neural networks\n",
    "    def multiHiddenLayer(x, layers):\n",
    "        num_layer = len(layers)\n",
    "        pre_units = num_pixel#输入节点\n",
    "        next_units = pre_units#输出节点\n",
    "        data = x\n",
    "        #Traverse each layer\n",
    "        for i in range(num_layer):            \n",
    "            with g.name_scope('hidden'+str(i)):\n",
    "                #权重\n",
    "                next_units = layers[i]\n",
    "                weights = tf.Variable(\n",
    "                    tf.truncated_normal([pre_units, next_units],\n",
    "                                        stddev=1.0 / np.sqrt(float(pre_units))),\n",
    "                    name='weights')\n",
    "                #偏差\n",
    "                biases = tf.Variable(tf.zeros([next_units]), \n",
    "                                     name='biases')\n",
    "                hidden = tf.nn.relu(tf.matmul(data, weights) + biases)\n",
    "                data = hidden\n",
    "                pre_units = next_units\n",
    "        # Linear\n",
    "        with g.name_scope('softmax_linear'):\n",
    "            weights = tf.Variable(\n",
    "                tf.truncated_normal([next_units, num_class],\n",
    "                                    stddev=1.0 / np.sqrt(float(next_units))),\n",
    "                name='weights')\n",
    "            biases = tf.Variable(tf.zeros([num_class]),\n",
    "                                 name='biases')\n",
    "            logits = tf.matmul(data, weights) + biases\n",
    "        return tf.nn.softmax(logits)"
   ]
  },
  {
   "cell_type": "code",
   "execution_count": 35,
   "metadata": {
    "collapsed": false
   },
   "outputs": [],
   "source": [
    "with graph_fully.as_default() as g:\n",
    "    layers = [128, 64]#neurons for each layer\n",
    "    y = multiHiddenLayer(x, layers)\n",
    "    #定义目标函数，采用交叉熵\n",
    "    cross_entropy = -tf.reduce_sum(y_*tf.log(y))\n",
    "    #定义训练方式，梯度下降法\n",
    "    train_step = tf.train.GradientDescentOptimizer(0.001).minimize(cross_entropy)\n",
    "    #定义模型评价指标精确度\n",
    "    correct_prediction = tf.equal(tf.argmax(y,1), tf.argmax(y_,1))\n",
    "    accuracy = tf.reduce_mean(tf.cast(correct_prediction, \"float\"))"
   ]
  },
  {
   "cell_type": "code",
   "execution_count": 36,
   "metadata": {
    "collapsed": false
   },
   "outputs": [
    {
     "name": "stdout",
     "output_type": "stream",
     "text": [
      "Test Accuracy： 0.1208\n",
      "Test Accuracy： 0.9107\n",
      "Test Accuracy： 0.9245\n",
      "Test Accuracy： 0.9379\n",
      "Test Accuracy： 0.9456\n",
      "Test Accuracy： 0.9526\n",
      "Test Accuracy： 0.9559\n",
      "Test Accuracy： 0.9596\n",
      "Test Accuracy： 0.9627\n",
      "Test Accuracy： 0.9644\n",
      "Test Accuracy： 0.9671\n",
      "Test Accuracy： 0.9684\n",
      "Test Accuracy： 0.964\n",
      "Test Accuracy： 0.9685\n",
      "Test Accuracy： 0.9711\n",
      "Test Accuracy： 0.9729\n",
      "Test Accuracy： 0.9727\n",
      "Test Accuracy： 0.9749\n",
      "Test Accuracy： 0.9724\n",
      "Test Accuracy： 0.9735\n",
      "Test Accuracy： 0.9756\n",
      "Test Accuracy： 0.9726\n",
      "Test Accuracy： 0.9747\n",
      "Test Accuracy： 0.9749\n",
      "Test Accuracy： 0.9774\n",
      "Test Accuracy： 0.9761\n",
      "Test Accuracy： 0.9765\n",
      "Test Accuracy： 0.9774\n",
      "Test Accuracy： 0.9735\n",
      "Test Accuracy： 0.9744\n",
      "Test Accuracy： 0.9772\n",
      "Test Accuracy： 0.9764\n",
      "Test Accuracy： 0.9759\n",
      "Test Accuracy： 0.9772\n",
      "Test Accuracy： 0.9766\n",
      "Test Accuracy： 0.9763\n",
      "Test Accuracy： 0.9767\n",
      "Test Accuracy： 0.9764\n",
      "Test Accuracy： 0.9776\n",
      "Test Accuracy： 0.9792\n"
     ]
    }
   ],
   "source": [
    "e_pochs = 20\n",
    "batch_size = 64\n",
    "num_steps = int(n_tr/batch_size)\n",
    "#Create a session\n",
    "with tf.Session(graph=graph_fully) as sess:\n",
    "    #Initialize all the variables\n",
    "    init_op = tf.global_variables_initializer()\n",
    "    sess.run(init_op)\n",
    "    for _ in range(e_pochs):\n",
    "        for step in range(num_steps):\n",
    "            #offset = (step * batch_size) % (mnist.train.labels.shape[0] - batch_size)\n",
    "            #Feed the dataset to the placeholders     \n",
    "            batch_data, batch_labels = mnist.train.next_batch(batch_size)\n",
    "            #Pass the data to a dictionary\n",
    "            feed_dict = {x : batch_data, y_ : batch_labels}\n",
    "            #Train the model by feeding batch data\n",
    "            _, loss = sess.run([train_step, cross_entropy], feed_dict=feed_dict)\n",
    "            #Calculate acccuracy after 500 times training\n",
    "            if step%500 == 0:\n",
    "                result = sess.run(accuracy, feed_dict={x: mnist.test.images, y_: mnist.test.labels})\n",
    "                print(\"Test Accuracy：\", result)"
   ]
  },
  {
   "cell_type": "markdown",
   "metadata": {},
   "source": [
    "## Convolutional Neural Network\n",
    "\n",
    "Following example shows how to create a convolutional neural network. In addition, 'name_scope' is taken into consideration for each layer. Reference:http://wiki.jikexueyuan.com/project/tensorflow-zh/how_tos/variable_scope.html"
   ]
  },
  {
   "cell_type": "code",
   "execution_count": 7,
   "metadata": {
    "collapsed": true
   },
   "outputs": [],
   "source": [
    "#Create weights\n",
    "def weight_variable(shape):\n",
    "  initial = tf.truncated_normal(shape, stddev=0.1)\n",
    "  return tf.Variable(initial, name='weights')\n",
    "\n",
    "#Create biases\n",
    "def bias_variable(shape):\n",
    "  initial = tf.constant(0.1, shape=shape)\n",
    "  return tf.Variable(initial, name='biases')"
   ]
  },
  {
   "cell_type": "code",
   "execution_count": 8,
   "metadata": {
    "collapsed": true
   },
   "outputs": [],
   "source": [
    "#Convolutional function\n",
    "def conv2d(x, W):\n",
    "  return tf.nn.conv2d(x, W, strides=[1, 1, 1, 1], padding='SAME')\n",
    "#Max pool function\n",
    "def max_pool_2x2(x):\n",
    "  return tf.nn.max_pool(x, ksize=[1, 2, 2, 1],\n",
    "                        strides=[1, 2, 2, 1], padding='SAME')"
   ]
  },
  {
   "cell_type": "code",
   "execution_count": 9,
   "metadata": {
    "collapsed": true
   },
   "outputs": [],
   "source": [
    "def conv_relu_pool(input, kernel_shape, bias_shape):\n",
    "    # Create variable named \"weights\".\n",
    "    weights = weight_variable(kernel_shape)\n",
    "    # Create variable named \"biases\".\n",
    "    biases = bias_variable(bias_shape)\n",
    "    conv = conv2d(input, weights)\n",
    "    relu = tf.nn.relu(conv + biases)\n",
    "    pool = max_pool_2x2(relu)\n",
    "    return pool"
   ]
  },
  {
   "cell_type": "code",
   "execution_count": 10,
   "metadata": {
    "collapsed": true
   },
   "outputs": [],
   "source": [
    "def cnnLayer(x, keep_prob):\n",
    "    x_image = tf.reshape(x, [-1,28,28,1])\n",
    "    #First Conv\n",
    "    with tf.name_scope('hidden1'):\n",
    "        kernel_shape, bias_shape = [5, 5, 1, 32], [32] \n",
    "        h_pool1 = conv_relu_pool(x_image, kernel_shape, bias_shape)\n",
    "        \n",
    "    #Second Conv\n",
    "    with tf.name_scope('hidden2'):\n",
    "        kernel_shape, bias_shape = [5, 5, 32, 64], [64] \n",
    "        h_pool2 = conv_relu_pool(h_pool1, kernel_shape, bias_shape)\n",
    "    \n",
    "    #Fully Connected Layer\n",
    "    with tf.name_scope('fully_connected'):\n",
    "        W_fc1 = weight_variable([7 * 7 * 64, 1024])\n",
    "        b_fc1 = bias_variable([1024])\n",
    "        h_pool2_flat = tf.reshape(h_pool2, [-1, 7*7*64])\n",
    "        h_fc1 = tf.nn.relu(tf.matmul(h_pool2_flat, W_fc1) + b_fc1)\n",
    "        #Dropout, to prevent against overfitting      \n",
    "        h_fc1_drop = tf.nn.dropout(h_fc1, keep_prob)\n",
    "    #Softmax Layer\n",
    "    with tf.name_scope('softmax_layer'):\n",
    "        W_fc2 = weight_variable([1024, 10])\n",
    "        b_fc2 = bias_variable([10])\n",
    "        logits = tf.matmul(h_fc1_drop, W_fc2) + b_fc2\n",
    "    return tf.nn.softmax(logits)"
   ]
  },
  {
   "cell_type": "code",
   "execution_count": 11,
   "metadata": {
    "collapsed": false
   },
   "outputs": [],
   "source": [
    "graph_cnn = tf.Graph()\n",
    "with graph_cnn.as_default() as g:\n",
    "    #Create input placeholders\n",
    "    x = tf.placeholder(tf.float32, [None, 784])\n",
    "    y_ = tf.placeholder(tf.float32, [None,10])\n",
    "    #Define ropout probability placholder\n",
    "    keep_prob = tf.placeholder(\"float\")   \n",
    "\n",
    "    y = cnnLayer(x, keep_prob)\n",
    "    #Define cross-entropy as loss function\n",
    "    cross_entropy = -tf.reduce_sum(y_*tf.log(y))\n",
    "    #Adam Optimizer\n",
    "    train_step = tf.train.AdamOptimizer(0.0005).minimize(cross_entropy)\n",
    "    #Define accuracy\n",
    "    correct_prediction = tf.equal(tf.argmax(y,1), tf.argmax(y_,1))\n",
    "    accuracy = tf.reduce_mean(tf.cast(correct_prediction, \"float\"))"
   ]
  },
  {
   "cell_type": "code",
   "execution_count": 12,
   "metadata": {
    "collapsed": false
   },
   "outputs": [
    {
     "name": "stdout",
     "output_type": "stream",
     "text": [
      "Loss: 847.828\n",
      "Loss: 17.2792\n",
      "Loss: 6.03226\n",
      "Loss: 8.99566\n",
      "Loss: 0.492449\n",
      "Loss: 1.18727\n",
      "Loss: 0.539927\n",
      "Loss: 3.20441\n",
      "Loss: 4.73405\n",
      "Loss: 0.0628569\n",
      "Loss: 0.541013\n",
      "Loss: 5.22627\n",
      "Loss: 0.867604\n",
      "Loss: 2.71618\n",
      "Loss: 0.466885\n",
      "Loss: 0.0806042\n",
      "Loss: 0.0407576\n",
      "Loss: 5.98011\n",
      "Loss: 1.28675\n",
      "Loss: 0.0196769\n",
      "Testing Accuracy： 0.9925\n"
     ]
    }
   ],
   "source": [
    "e_pochs = 10\n",
    "batch_size = 64\n",
    "num_steps = int(n_tr/batch_size)\n",
    "#Create a session\n",
    "with tf.Session(graph=graph_cnn) as sess:\n",
    "    #Initialize variables\n",
    "    init_op = tf.global_variables_initializer()\n",
    "    sess.run(init_op)\n",
    "    for _ in range(e_pochs):\n",
    "        for step in range(num_steps):\n",
    "            batch_data, batch_labels = mnist.train.next_batch(batch_size)\n",
    "            feed_dict = {x : batch_data, y_ : batch_labels, keep_prob: 0.5}\n",
    "            #Train\n",
    "            _, loss = sess.run([train_step, cross_entropy], feed_dict=feed_dict)\n",
    "            if step%500 == 0:\n",
    "                print('Loss:', loss)\n",
    "                \n",
    "    count = 0    \n",
    "    for _ in range(200):\n",
    "        batch_data, batch_labels = mnist.test.next_batch(50)\n",
    "        feed_dict = {x : batch_data, y_ : batch_labels, keep_prob: 1}\n",
    "        cp = sess.run(correct_prediction, feed_dict=feed_dict)\n",
    "        count += np.sum(cp)\n",
    "    print(\"Testing Accuracy：\", count/n_ts)"
   ]
  },
  {
   "cell_type": "markdown",
   "metadata": {},
   "source": [
    "## CNN With Improvement\n",
    "\n",
    "In order to improve the performance of CNN, we can replace normal initialization with Xavier initialization, which is said to be more effective, in addition a declining learning rate is adopted rather than a constant one as the more close to the optimal value the smaller we expect the rate to be."
   ]
  },
  {
   "cell_type": "code",
   "execution_count": 13,
   "metadata": {
    "collapsed": true
   },
   "outputs": [],
   "source": [
    "initializer = tf.contrib.layers.xavier_initializer_conv2d()\n",
    "#Create weights\n",
    "def weight_variable(shape):\n",
    "  #initial = tf.truncated_normal(shape, stddev=0.01)\n",
    "  return tf.Variable(initializer(shape), name='weights')\n",
    "\n",
    "#Create biases\n",
    "def bias_variable(shape):\n",
    "  #initial = tf.constant(0.01, shape=shape)\n",
    "  return tf.Variable(initializer(shape), name='biases')\n",
    "\n",
    "#Convolutional function\n",
    "def conv2d(x, W):\n",
    "  return tf.nn.conv2d(x, W, strides=[1, 1, 1, 1], padding='SAME')\n",
    "#Max pool function\n",
    "def max_pool_2x2(x):\n",
    "  return tf.nn.max_pool(x, ksize=[1, 2, 2, 1],\n",
    "                        strides=[1, 2, 2, 1], padding='SAME')"
   ]
  },
  {
   "cell_type": "code",
   "execution_count": 14,
   "metadata": {
    "collapsed": true
   },
   "outputs": [],
   "source": [
    "def cnnLayer2(x, keep_prob):\n",
    "    x_image = tf.reshape(x, [-1,28,28,1])\n",
    "    #First Conv\n",
    "    with tf.name_scope('hidden1'):\n",
    "        kernel_shape, bias_shape = [3, 3, 1, 32], [32] \n",
    "        h_pool1 = conv_relu_pool(x_image, kernel_shape, bias_shape)\n",
    "        \n",
    "    #Second Conv\n",
    "    with tf.name_scope('hidden2'):\n",
    "        kernel_shape, bias_shape = [3, 3, 32, 64], [64] \n",
    "        h_pool2 = conv_relu_pool(h_pool1, kernel_shape, bias_shape)\n",
    "    \n",
    "    #Fully Connected Layer\n",
    "    with tf.name_scope('fully_connected'):\n",
    "        W_fc1 = weight_variable([7 * 7 * 64, 1024])\n",
    "        b_fc1 = bias_variable([1024])\n",
    "        h_pool2_flat = tf.reshape(h_pool2, [-1, 7*7*64])\n",
    "        h_fc1 = tf.nn.relu(tf.matmul(h_pool2_flat, W_fc1) + b_fc1)\n",
    "        #Dropout, to prevent against overfitting      \n",
    "        h_fc1_drop = tf.nn.dropout(h_fc1, keep_prob)\n",
    "    #Softmax Layer\n",
    "    with tf.name_scope('softmax_layer'):\n",
    "        W_fc2 = weight_variable([1024, 10])\n",
    "        b_fc2 = bias_variable([10])\n",
    "        logits = tf.matmul(h_fc1_drop, W_fc2) + b_fc2\n",
    "    return tf.nn.softmax(logits)"
   ]
  },
  {
   "cell_type": "markdown",
   "metadata": {},
   "source": [
    "Note, here we use a declining learning rate for gradient descending method."
   ]
  },
  {
   "cell_type": "code",
   "execution_count": 15,
   "metadata": {
    "collapsed": false
   },
   "outputs": [],
   "source": [
    "graph_cnn2 = tf.Graph()\n",
    "with graph_cnn2.as_default() as g:\n",
    "    #Create input placeholders\n",
    "    x = tf.placeholder(tf.float32, [None, 784])\n",
    "    y_ = tf.placeholder(tf.float32, [None,10])\n",
    "    #Define ropout probability placholder\n",
    "    keep_prob = tf.placeholder(\"float\")   \n",
    "\n",
    "    y = cnnLayer2(x, keep_prob)\n",
    "    #Define cross-entropy as loss function\n",
    "    cross_entropy = -tf.reduce_sum(y_*tf.log(y))\n",
    "    #Gradient Descending Optimizer\n",
    "    cur_step = tf.Variable(0, trainable=False)  # count the number of steps taken.\n",
    "    starter_learning_rate = 0.0005\n",
    "    learning_rate = tf.train.exponential_decay(starter_learning_rate, cur_step, 500, 0.96, staircase=True)\n",
    "    train_step = tf.train.GradientDescentOptimizer(learning_rate).minimize(cross_entropy, global_step=cur_step)\n",
    "    #train_step = tf.train.AdamOptimizer(0.00001).minimize(cross_entropy)\n",
    "    #Define accuracy\n",
    "    correct_prediction = tf.equal(tf.argmax(y,1), tf.argmax(y_,1))\n",
    "    accuracy = tf.reduce_mean(tf.cast(correct_prediction, \"float\"))"
   ]
  },
  {
   "cell_type": "code",
   "execution_count": 17,
   "metadata": {
    "collapsed": false
   },
   "outputs": [
    {
     "name": "stdout",
     "output_type": "stream",
     "text": [
      "Loss: 147.909\n",
      "Loss: 5.70927\n",
      "Loss: 4.90338\n",
      "Loss: 4.17822\n",
      "Loss: 1.32107\n",
      "Loss: 3.26418\n",
      "Loss: 4.67591\n",
      "Loss: 6.36736\n",
      "Loss: 0.97047\n",
      "Loss: 1.15154\n",
      "Loss: 0.919087\n",
      "Loss: 1.29124\n",
      "Loss: 1.96115\n",
      "Loss: 0.6948\n",
      "Loss: 0.628241\n",
      "Loss: 0.858873\n",
      "Loss: 0.56969\n",
      "Loss: 1.07278\n",
      "Loss: 4.25916\n",
      "Loss: 0.324269\n",
      "Loss: 1.46772\n",
      "Loss: 0.54338\n",
      "Loss: 0.353937\n",
      "Loss: 0.255792\n",
      "Loss: 0.544565\n",
      "Loss: 0.198912\n",
      "Loss: 0.811475\n",
      "Loss: 0.103436\n",
      "Loss: 0.847413\n",
      "Loss: 16.1115\n",
      "Loss: 0.317075\n",
      "Loss: 0.371413\n",
      "Loss: 0.409622\n",
      "Loss: 0.32419\n",
      "Loss: 0.695689\n",
      "Loss: 0.150755\n",
      "Loss: 0.111508\n",
      "Loss: 1.06223\n",
      "Loss: 0.134771\n",
      "Loss: 0.667687\n",
      "Loss: 0.64333\n",
      "Loss: 1.4673\n",
      "Loss: 0.0713766\n",
      "Loss: 0.479754\n",
      "Loss: 0.694741\n",
      "Loss: 0.147707\n",
      "Loss: 0.175523\n",
      "Loss: 0.478875\n",
      "Loss: 0.561402\n",
      "Loss: 0.480085\n",
      "Loss: 0.596364\n",
      "Loss: 2.10838\n",
      "Loss: 0.390726\n",
      "Loss: 0.601686\n",
      "Loss: 0.722839\n",
      "Loss: 2.27915\n",
      "Loss: 0.153502\n",
      "Loss: 0.242326\n",
      "Loss: 0.461885\n",
      "Loss: 0.196564\n",
      "Testing Accuracy： 0.9983\n"
     ]
    }
   ],
   "source": [
    "e_pochs = 30\n",
    "batch_size = 64\n",
    "num_steps = int(n_tr/batch_size)\n",
    "#Create a session\n",
    "with tf.Session(graph=graph_cnn2) as sess:\n",
    "    #Initialize variables\n",
    "    init_op = tf.global_variables_initializer()\n",
    "    sess.run(init_op)\n",
    "    #Run on GTX960 GPU\n",
    "    for _ in range(e_pochs):\n",
    "        for step in range(num_steps):\n",
    "            batch_data, batch_labels = mnist.train.next_batch(batch_size)\n",
    "            feed_dict = {x : batch_data, y_ : batch_labels, keep_prob: 0.5}\n",
    "            #Train\n",
    "            _, loss = sess.run([train_step, cross_entropy], feed_dict=feed_dict)\n",
    "            if step%500 == 0:\n",
    "                feed_dict = {x : batch_data, y_ : batch_labels, keep_prob: 1}\n",
    "                loss = sess.run(cross_entropy, feed_dict=feed_dict)\n",
    "                print('Loss:', loss)\n",
    "                \n",
    "    count = 0  \n",
    "    #Due to the limited GPU memory, we have to split the testing data into batches\n",
    "    for _ in range(200):\n",
    "        batch_data, batch_labels = mnist.train.next_batch(50)\n",
    "        feed_dict = {x : batch_data, y_ : batch_labels, keep_prob: 1}\n",
    "        cp = sess.run(correct_prediction, feed_dict=feed_dict)\n",
    "        count += np.sum(cp)\n",
    "    print(\"Testing Accuracy：\", count/n_ts)"
   ]
  },
  {
   "cell_type": "markdown",
   "metadata": {},
   "source": [
    "## Recurrent Neural Network"
   ]
  },
  {
   "cell_type": "code",
   "execution_count": 12,
   "metadata": {
    "collapsed": true
   },
   "outputs": [],
   "source": [
    "from tensorflow.contrib import rnn\n",
    "# Network Parameters\n",
    "n_input = 28 # MNIST data input (img shape: 28*28)\n",
    "n_steps = 28 # timesteps\n",
    "n_hidden = 128 # hidden layer num of features\n",
    "n_classes = 10 # MNIST total classes (0-9 digits)\n",
    "learning_rate = 0.00002"
   ]
  },
  {
   "cell_type": "code",
   "execution_count": 132,
   "metadata": {
    "collapsed": true
   },
   "outputs": [],
   "source": [
    "def rnnLayer(x):\n",
    "    '''\n",
    "    Create a Rnn layer\n",
    "    Treat each image as a series of vectors\n",
    "    the time step is n_step\n",
    "    the size of input vector is n_input\n",
    "    '''\n",
    "    # Transform X into series\n",
    "    # Reshape data to get 28 seq of 28 elements\n",
    "    x = tf.reshape(x, (-1, n_steps, n_input))\n",
    "    x = tf.transpose(x, [1, 0, 2])\n",
    "    # (n_steps*batch_size, n_input)\n",
    "    x = tf.reshape(x, [-1, n_input])\n",
    "    # (batch_size, n_input)\n",
    "    x = tf.split(x, n_steps, 0)\n",
    "    with tf.variable_scope(\"rnn_lstm\"):\n",
    "        # Define a lstm cell with tensorflow\n",
    "        lstm_cell = rnn.BasicLSTMCell(n_hidden, forget_bias=1.0)\n",
    "        with tf.variable_scope('rnn_layer'):\n",
    "            # Get lstm cell output\n",
    "            outputs, states = rnn.static_rnn(lstm_cell, x, dtype=tf.float32)\n",
    "            # Linear activation, using rnn inner loop last output\n",
    "        with tf.name_scope('fully_connected'):\n",
    "            # FUlly Connected layer\n",
    "            weights = tf.Variable(tf.random_normal([n_hidden, n_classes]), name='weights')\n",
    "            biases = tf.Variable(tf.random_normal([n_classes]), name='biases')\n",
    "    logits = tf.matmul(outputs[-1], weights) + biases\n",
    "    return tf.nn.softmax(logits)"
   ]
  },
  {
   "cell_type": "code",
   "execution_count": 137,
   "metadata": {
    "collapsed": false
   },
   "outputs": [],
   "source": [
    "graph_rnn = tf.Graph()\n",
    "with graph_rnn.as_default():\n",
    "    # tf Graph input\n",
    "    x = tf.placeholder(tf.float32, [None, n_steps*n_input])\n",
    "    y_ = tf.placeholder(tf.float32, [None, n_classes])\n",
    "    y = rnnLayer(x)\n",
    "    # Define loss and optimizer\n",
    "    cross_entropy = -tf.reduce_mean(y_* tf.log(y))\n",
    "    \n",
    "    cur_step = tf.Variable(0, trainable=False)  # count the number of steps taken.\n",
    "    starter_learning_rate = 0.005\n",
    "    tvars = tf.trainable_variables()\n",
    "    grads, _ = tf.clip_by_global_norm(tf.gradients(cross_entropy, tvars),\n",
    "                                      5)\n",
    "    #optimizer = tf.train.GradientDescentOptimizer(cur_step)\n",
    "    #learning_rate = tf.train.exponential_decay(starter_learning_rate, cur_step, 1000, 0.96, staircase=True)\n",
    "    #optimizer = tf.train.GradientDescentOptimizer(learning_rate)\n",
    "    #train_op = optimizer.apply_gradients(\n",
    "        #zip(grads, tvars),\n",
    "        #global_step=cur_step)\n",
    "    optimizer = tf.train.AdamOptimizer(0.0001).minimize(cross_entropy)\n",
    "\n",
    "    # Evaluate model\n",
    "    correct_pred = tf.equal(tf.argmax(y_,1), tf.argmax(y,1))\n",
    "    accuracy = tf.reduce_mean(tf.cast(correct_pred, tf.float32))\n",
    "\n"
   ]
  },
  {
   "cell_type": "code",
   "execution_count": 139,
   "metadata": {
    "collapsed": false
   },
   "outputs": [
    {
     "name": "stdout",
     "output_type": "stream",
     "text": [
      "Loss:0.26374 Training Accuracy= 0.09375\n",
      "Loss:0.05619 Training Accuracy= 0.81250\n",
      "Loss:0.05009 Training Accuracy= 0.84375\n",
      "Loss:0.03332 Training Accuracy= 0.92188\n",
      "Loss:0.01795 Training Accuracy= 0.93750\n",
      "Loss:0.02159 Training Accuracy= 0.95312\n",
      "Loss:0.01759 Training Accuracy= 0.95312\n",
      "Loss:0.01550 Training Accuracy= 0.93750\n",
      "Loss:0.01899 Training Accuracy= 0.92188\n",
      "Loss:0.00603 Training Accuracy= 0.98438\n",
      "Loss:0.00750 Training Accuracy= 0.98438\n",
      "Loss:0.01236 Training Accuracy= 0.96875\n",
      "Loss:0.00897 Training Accuracy= 0.98438\n",
      "Loss:0.01271 Training Accuracy= 0.93750\n",
      "Loss:0.00758 Training Accuracy= 0.98438\n",
      "Loss:0.00407 Training Accuracy= 0.98438\n",
      "Loss:0.00391 Training Accuracy= 0.98438\n",
      "Loss:0.00368 Training Accuracy= 1.00000\n",
      "Loss:0.00607 Training Accuracy= 0.98438\n",
      "Loss:0.01294 Training Accuracy= 0.96875\n",
      "Loss:0.01248 Training Accuracy= 0.96875\n",
      "Loss:0.01447 Training Accuracy= 0.95312\n",
      "Loss:0.01703 Training Accuracy= 0.96875\n",
      "Loss:0.00984 Training Accuracy= 0.98438\n",
      "Loss:0.00670 Training Accuracy= 0.98438\n",
      "Loss:0.00074 Training Accuracy= 1.00000\n",
      "Loss:0.00777 Training Accuracy= 0.96875\n",
      "Loss:0.00277 Training Accuracy= 1.00000\n",
      "Loss:0.01156 Training Accuracy= 0.96875\n",
      "Loss:0.00631 Training Accuracy= 0.96875\n",
      "Loss:0.00825 Training Accuracy= 0.96875\n",
      "Loss:0.00303 Training Accuracy= 0.98438\n",
      "Loss:0.00354 Training Accuracy= 0.98438\n",
      "Loss:0.00102 Training Accuracy= 1.00000\n",
      "Loss:0.00718 Training Accuracy= 0.98438\n",
      "Loss:0.01678 Training Accuracy= 0.93750\n",
      "Loss:0.00433 Training Accuracy= 0.96875\n",
      "Loss:0.00212 Training Accuracy= 1.00000\n",
      "Loss:0.00911 Training Accuracy= 0.96875\n",
      "Loss:0.00936 Training Accuracy= 0.96875\n",
      "Optimization Finished!\n",
      "Testing Accuracy: 0.9806\n"
     ]
    }
   ],
   "source": [
    "# Parameters\n",
    "e_pochs = 20\n",
    "batch_size = 64\n",
    "num_steps = int(n_tr/batch_size)\n",
    "display_step = 600\n",
    "# Launch the graph\n",
    "with tf.Session(graph=graph_rnn) as sess:\n",
    "    # Initializing the variables\n",
    "    init = tf.global_variables_initializer()\n",
    "    sess.run(init)\n",
    "    # Keep training until reach max iterations\n",
    "    for _ in range(e_pochs):\n",
    "        for step in np.arange(num_steps):\n",
    "            batch_x, batch_y = mnist.train.next_batch(batch_size)\n",
    "        \n",
    "             # Run optimization op (backprop)\n",
    "            _, loss, acc = sess.run([optimizer, cross_entropy, accuracy], feed_dict={x: batch_x, y_: batch_y})\n",
    "            if step % display_step == 0:\n",
    "                # Calculate batch accuracy\n",
    "                print('Loss:{:.5f}'.format(loss), \"Training Accuracy= \" + \\\n",
    "                      \"{:.5f}\".format(acc))\n",
    "\n",
    "    print(\"Optimization Finished!\")\n",
    "\n",
    "    # Calculate accuracy for 128 mnist test images\n",
    "    test_data = mnist.test.images\n",
    "    test_label = mnist.test.labels\n",
    "    print(\"Testing Accuracy:\", \\\n",
    "        sess.run(accuracy, feed_dict={x: test_data, y_: test_label}))"
   ]
  },
  {
   "cell_type": "markdown",
   "metadata": {},
   "source": [
    "## Multi-layer Rnn model"
   ]
  },
  {
   "cell_type": "markdown",
   "metadata": {},
   "source": [
    "In this example, we create a two-layer LSTM neural network with dropout method to prevent against overfitting."
   ]
  },
  {
   "cell_type": "code",
   "execution_count": 14,
   "metadata": {
    "collapsed": true
   },
   "outputs": [],
   "source": [
    "n_hidden = 128 # hidden layer num of features\n",
    "n_classes = 10 # MNIST total classes (0-9 digits)\n",
    "n_input = 28\n",
    "n_steps = 28 # timesteps\n",
    "layer_num = 2 #LSTM layer number\n",
    "batch_size = 64"
   ]
  },
  {
   "cell_type": "code",
   "execution_count": 15,
   "metadata": {
    "collapsed": true
   },
   "outputs": [],
   "source": [
    "def lstm_cell(keep_prob):\n",
    "    '''Create a basic lstm cell with dropout'''\n",
    "    cell = rnn.BasicLSTMCell(n_hidden, forget_bias=0)\n",
    "    cell = rnn.DropoutWrapper(cell, input_keep_prob=1.0, output_keep_prob=keep_prob)\n",
    "    return cell"
   ]
  },
  {
   "cell_type": "code",
   "execution_count": 19,
   "metadata": {
    "collapsed": false
   },
   "outputs": [],
   "source": [
    "def multi_rnnLayer(x, keep_prob):\n",
    "    # Transform X into series\n",
    "    # Reshape data to get 28 seq of 28 elements\n",
    "    x = tf.reshape(x, (-1, n_steps, n_input))\n",
    "    # split input into 28 seqs with size(batch_size, input_size)\n",
    "    x = tf.unstack(x, n_steps, 1)\n",
    "    with tf.variable_scope(\"multi_rnn_lstm\"):\n",
    "        # Define a lstm cell with tensorflow\n",
    "        cell = lstm_cell\n",
    "        #Add dropout to prevent against overfitting\n",
    "        #cell = rnn.DropoutWrapper(cell=cell(), input_keep_prob=1.0, output_keep_prob=keep_prob)\n",
    "        #Create two layer LSTM network\n",
    "        #Note cell() creates different cells each time, this is very important\n",
    "        #DO NOT USE lstm_cell directly which will invoke parameter sharing problem\n",
    "        mlstm_cell = rnn.MultiRNNCell([cell(keep_prob) for _ in range(layer_num)], state_is_tuple=True)\n",
    "        with tf.variable_scope('multi_rnn_layer'):\n",
    "            # Get lstm cell output, using dynamic rnn, the input is one tensor\n",
    "            #outputs, states = tf.nn.dynamic_rnn(mlstm_cell, x, dtype=tf.float32)\n",
    "            #if we use static rnn, we need to unrollthe graphs and the tensor slices\n",
    "            #x must be a list of tensors\n",
    "            outputs, states = rnn.static_rnn(mlstm_cell, x, dtype=tf.float32)\n",
    "            #An alternative below\n",
    "            #outputs = []\n",
    "            #state = mlstm_cell.zero_state(batch_size,tf.float32)\n",
    "            #for time_step in range(n_steps):\n",
    "                #if time_step > 0: tf.get_variable_scope().reuse_variables()\n",
    "                #cell_output, state = mlstm_cell(x[:, time_step, :], state)\n",
    "                #outputs.append(cell_output)\n",
    "        # Linear activation, using rnn inner loop last output\n",
    "        with tf.name_scope('fully_connected'):\n",
    "            # FUlly Connected layer\n",
    "            weights = tf.Variable(tf.random_normal([n_hidden, n_classes]), name='weights')\n",
    "            biases = tf.Variable(tf.random_normal([n_classes]), name='biases')\n",
    "    logits = tf.matmul(outputs[-1], weights) + biases\n",
    "    return tf.nn.softmax(logits)"
   ]
  },
  {
   "cell_type": "code",
   "execution_count": 20,
   "metadata": {
    "collapsed": false
   },
   "outputs": [],
   "source": [
    "graph_multirnn = tf.Graph()\n",
    "with graph_multirnn.as_default():\n",
    "    # tf Graph input\n",
    "    x = tf.placeholder(tf.float32, [None, n_steps*n_input])\n",
    "    y_ = tf.placeholder(tf.float32, [None, n_classes])\n",
    "    keep_prob =tf.placeholder(tf.float32)\n",
    "\n",
    "    y = multi_rnnLayer(x, keep_prob)\n",
    "\n",
    "    # Define loss and optimizer\n",
    "    cross_entropy = -tf.reduce_mean(y_* tf.log(y))\n",
    "    optimizer = tf.train.AdamOptimizer(0.0001).minimize(cross_entropy)\n",
    "\n",
    "    # Evaluate model\n",
    "    correct_pred = tf.equal(tf.argmax(y_,1), tf.argmax(y,1))\n",
    "    accuracy = tf.reduce_mean(tf.cast(correct_pred, tf.float32))"
   ]
  },
  {
   "cell_type": "code",
   "execution_count": 21,
   "metadata": {
    "collapsed": false
   },
   "outputs": [
    {
     "name": "stdout",
     "output_type": "stream",
     "text": [
      "Training Accuracy= 0.14062\n",
      "Training Accuracy= 0.81250\n",
      "Training Accuracy= 0.79688\n",
      "Training Accuracy= 0.92188\n",
      "Training Accuracy= 0.95312\n",
      "Training Accuracy= 0.93750\n",
      "Training Accuracy= 0.90625\n",
      "Training Accuracy= 0.98438\n",
      "Training Accuracy= 0.92188\n",
      "Training Accuracy= 0.93750\n",
      "Training Accuracy= 0.90625\n",
      "Training Accuracy= 0.90625\n",
      "Training Accuracy= 0.92188\n",
      "Training Accuracy= 0.96875\n",
      "Training Accuracy= 0.98438\n",
      "Training Accuracy= 1.00000\n",
      "Training Accuracy= 0.93750\n",
      "Training Accuracy= 0.96875\n",
      "Training Accuracy= 1.00000\n",
      "Training Accuracy= 0.98438\n",
      "Training Accuracy= 0.98438\n",
      "Training Accuracy= 0.93750\n",
      "Training Accuracy= 0.95312\n",
      "Training Accuracy= 1.00000\n",
      "Training Accuracy= 1.00000\n",
      "Training Accuracy= 1.00000\n",
      "Training Accuracy= 1.00000\n",
      "Training Accuracy= 1.00000\n",
      "Training Accuracy= 0.98438\n",
      "Training Accuracy= 1.00000\n",
      "Training Accuracy= 0.98438\n",
      "Training Accuracy= 1.00000\n",
      "Training Accuracy= 1.00000\n",
      "Training Accuracy= 1.00000\n",
      "Training Accuracy= 0.98438\n",
      "Training Accuracy= 0.98438\n",
      "Training Accuracy= 0.98438\n",
      "Training Accuracy= 0.96875\n",
      "Training Accuracy= 1.00000\n",
      "Training Accuracy= 0.98438\n",
      "Training Accuracy= 0.98438\n",
      "Training Accuracy= 0.98438\n",
      "Training Accuracy= 0.98438\n",
      "Training Accuracy= 1.00000\n",
      "Training Accuracy= 1.00000\n",
      "Training Accuracy= 0.98438\n",
      "Training Accuracy= 0.98438\n",
      "Training Accuracy= 1.00000\n",
      "Training Accuracy= 1.00000\n",
      "Training Accuracy= 1.00000\n",
      "Training Accuracy= 0.98438\n",
      "Training Accuracy= 0.98438\n",
      "Training Accuracy= 0.98438\n",
      "Training Accuracy= 1.00000\n",
      "Training Accuracy= 1.00000\n",
      "Training Accuracy= 0.96875\n",
      "Training Accuracy= 0.98438\n",
      "Training Accuracy= 1.00000\n",
      "Training Accuracy= 0.98438\n",
      "Training Accuracy= 0.98438\n",
      "Optimization Finished!\n",
      "Testing Accuracy: 0.9845\n"
     ]
    }
   ],
   "source": [
    "# Parameters\n",
    "epochs = 30\n",
    "num_steps = int(55000/batch_size)\n",
    "display_step = 801\n",
    "# Launch the graph\n",
    "with tf.Session(graph=graph_multirnn) as sess:\n",
    "    # Initializing the variables\n",
    "    init = tf.global_variables_initializer()\n",
    "    sess.run(init)\n",
    "    # Keep training until reach max iterations\n",
    "    for _ in range(epochs):\n",
    "        for step in np.arange(num_steps):\n",
    "            batch_x, batch_y = mnist.train.next_batch(batch_size)\n",
    "            # Run optimization op (backprop)\n",
    "            sess.run(optimizer, feed_dict={x: batch_x, y_: batch_y, keep_prob: 0.5})\n",
    "            if step % display_step == 0:\n",
    "                # Calculate batch accuracy\n",
    "                acc = sess.run(accuracy, feed_dict={x: batch_x, y_: batch_y, keep_prob:1.0})\n",
    "                print(\"Training Accuracy= \" + \\\n",
    "                  \"{:.5f}\".format(acc))\n",
    "\n",
    "    print(\"Optimization Finished!\")\n",
    "\n",
    "    # Calculate accuracy for 128 mnist test images\n",
    "    test_data = mnist.test.images\n",
    "    test_label = mnist.test.labels\n",
    "    print(\"Testing Accuracy:\", \\\n",
    "        sess.run(accuracy, feed_dict={x: test_data, y_: test_label, keep_prob: 1.0}))"
   ]
  },
  {
   "cell_type": "markdown",
   "metadata": {
    "collapsed": true
   },
   "source": [
    "## Bi-directional Rnn model\n",
    "\n",
    "This example shows how to apply Bidirectional RNN model to MNIST images, actually it leverages two RNN neetwork, one forward, one backward. Reference: https://github.com/aymericdamien/TensorFlow-Examples/tree/master/notebooks"
   ]
  },
  {
   "cell_type": "code",
   "execution_count": 28,
   "metadata": {
    "collapsed": true
   },
   "outputs": [],
   "source": [
    "# Parameters\n",
    "batch_size = 128\n",
    "display_step = 500\n",
    "\n",
    "# Network Parameters\n",
    "n_input = 28 # MNIST data input (img shape: 28*28)\n",
    "n_steps = 28 # timesteps\n",
    "n_hidden = 128 # hidden layer num of features\n",
    "n_classes = 10 # MNIST total classes (0-9 digits)"
   ]
  },
  {
   "cell_type": "code",
   "execution_count": 29,
   "metadata": {
    "collapsed": true
   },
   "outputs": [],
   "source": [
    "def birnnLayer(x):\n",
    "\n",
    "    # Prepare data shape to match `bidirectional_rnn` function requirements\n",
    "    # Current data input shape: (batch_size, n_steps, n_input)\n",
    "    # Required shape: 'n_steps' tensors list of shape (batch_size, n_input)\n",
    "    \n",
    "    # Permuting batch_size and n_steps\n",
    "    x = tf.transpose(x, [1, 0, 2])\n",
    "    # Reshape to (n_steps*batch_size, n_input)\n",
    "    x = tf.reshape(x, [-1, n_input])\n",
    "    # Split to get a list of 'n_steps' tensors of shape (batch_size, n_input)\n",
    "    x = tf.split(x, n_steps, 0)\n",
    "        \n",
    "\n",
    "    # Define lstm cells with tensorflow\n",
    "    # Forward direction cell\n",
    "    with tf.variable_scope('BiRnnLayer'):\n",
    "        lstm_fw_cell = rnn.BasicLSTMCell(n_hidden, forget_bias=1.0)\n",
    "        # Backward direction cell\n",
    "        lstm_bw_cell = rnn.BasicLSTMCell(n_hidden, forget_bias=1.0)\n",
    "        #   Get lstm cell output\n",
    "        with tf.variable_scope('BiRnn_Structure'):\n",
    "            try:\n",
    "                #There are two outputs, one for forward cell, the other for\n",
    "                #The backward cell\n",
    "                outputs, _, _ = rnn.static_bidirectional_rnn(lstm_fw_cell, \n",
    "                                                                 lstm_bw_cell, x,\n",
    "                                                                 dtype=tf.float32)\n",
    "            except Exception: # Old TensorFlow version only returns outputs not states\n",
    "                outputs = rnn.static_bidirectional_rnn(lstm_fw_cell, \n",
    "                                                           lstm_bw_cell, x,\n",
    "                                                           dtype=tf.float32)\n",
    "        with tf.name_scope('fully_connected'):\n",
    "            # FUlly Connected layer\n",
    "            weights = tf.Variable(tf.random_normal([2*n_hidden, n_classes]), name='weights')\n",
    "            biases = tf.Variable(tf.random_normal([n_classes]), name='biases')\n",
    "    # Linear activation, using rnn inner loop last output\n",
    "    return tf.add(tf.matmul(outputs[-1], weights), biases)"
   ]
  },
  {
   "cell_type": "code",
   "execution_count": 45,
   "metadata": {
    "collapsed": false
   },
   "outputs": [],
   "source": [
    "graph_biRnn = tf.Graph()\n",
    "with graph_biRnn.as_default():\n",
    "    # placeholder input\n",
    "    x = tf.placeholder(tf.float32, [None, n_steps, n_input])\n",
    "    y = tf.placeholder(tf.float32, [None, n_classes])\n",
    "    \n",
    "    #Create a bidirectional rnn layer\n",
    "    pred = birnnLayer(x)\n",
    "\n",
    "    # Define loss and optimizer\n",
    "    cross_entropy = tf.reduce_mean(tf.nn.softmax_cross_entropy_with_logits(logits=pred, labels=y))\n",
    "    \n",
    "    #cur_step = tf.Variable(0, trainable=False)  # count the number of steps taken.\n",
    "    #starter_learning_rate = 0.005\n",
    "    #tvars = tf.trainable_variables()\n",
    "    #grads, _ = tf.clip_by_global_norm(\n",
    "        #tf.gradients(cross_entropy, tvars), 5)\n",
    "        #optimizer = tf.train.GradientDescentOptimizer(cur_step)\n",
    "    #learning_rate = tf.train.exponential_decay(starter_learning_rate, cur_step, 500, 0.90, staircase=True)\n",
    "    #optimizer = tf.train.GradientDescentOptimizer(learning_rate)\n",
    "    #train_op = optimizer.apply_gradients(\n",
    "        #zip(grads, tvars),\n",
    "        #global_step=cur_step)\n",
    "    train_op = tf.train.AdamOptimizer(0.0001).minimize(cross_entropy)\n",
    "\n",
    "    # Evaluate model\n",
    "    correct_pred = tf.equal(tf.argmax(pred,1), tf.argmax(y,1))\n",
    "    accuracy = tf.reduce_mean(tf.cast(correct_pred, tf.float32))"
   ]
  },
  {
   "cell_type": "code",
   "execution_count": 46,
   "metadata": {
    "collapsed": false
   },
   "outputs": [
    {
     "name": "stdout",
     "output_type": "stream",
     "text": [
      " Minibatch Loss= 2.762307, Training Accuracy= 0.05469\n",
      " Minibatch Loss= 0.719144, Training Accuracy= 0.72656\n",
      " Minibatch Loss= 0.314582, Training Accuracy= 0.91406\n",
      " Minibatch Loss= 0.247267, Training Accuracy= 0.92969\n",
      " Minibatch Loss= 0.144795, Training Accuracy= 0.94531\n",
      " Minibatch Loss= 0.163616, Training Accuracy= 0.96094\n",
      " Minibatch Loss= 0.121279, Training Accuracy= 0.94531\n",
      " Minibatch Loss= 0.120281, Training Accuracy= 0.96875\n",
      " Minibatch Loss= 0.086797, Training Accuracy= 0.96875\n",
      " Minibatch Loss= 0.162958, Training Accuracy= 0.93750\n",
      " Minibatch Loss= 0.043332, Training Accuracy= 0.99219\n",
      " Minibatch Loss= 0.045126, Training Accuracy= 0.99219\n",
      " Minibatch Loss= 0.089108, Training Accuracy= 0.96875\n",
      " Minibatch Loss= 0.071346, Training Accuracy= 0.98438\n",
      " Minibatch Loss= 0.168034, Training Accuracy= 0.94531\n",
      " Minibatch Loss= 0.028106, Training Accuracy= 0.98438\n",
      " Minibatch Loss= 0.048147, Training Accuracy= 0.98438\n",
      " Minibatch Loss= 0.096012, Training Accuracy= 0.96094\n",
      " Minibatch Loss= 0.108399, Training Accuracy= 0.96875\n",
      " Minibatch Loss= 0.031771, Training Accuracy= 1.00000\n",
      " Minibatch Loss= 0.018218, Training Accuracy= 1.00000\n",
      " Minibatch Loss= 0.089941, Training Accuracy= 0.96094\n",
      " Minibatch Loss= 0.030112, Training Accuracy= 0.99219\n",
      " Minibatch Loss= 0.067277, Training Accuracy= 0.97656\n",
      " Minibatch Loss= 0.027177, Training Accuracy= 0.98438\n",
      " Minibatch Loss= 0.054646, Training Accuracy= 0.97656\n",
      " Minibatch Loss= 0.031598, Training Accuracy= 0.99219\n",
      " Minibatch Loss= 0.067667, Training Accuracy= 0.98438\n",
      " Minibatch Loss= 0.029657, Training Accuracy= 0.98438\n",
      " Minibatch Loss= 0.021682, Training Accuracy= 1.00000\n",
      " Minibatch Loss= 0.069603, Training Accuracy= 0.96875\n",
      " Minibatch Loss= 0.026557, Training Accuracy= 0.98438\n",
      " Minibatch Loss= 0.013306, Training Accuracy= 1.00000\n",
      " Minibatch Loss= 0.028145, Training Accuracy= 0.99219\n",
      " Minibatch Loss= 0.029957, Training Accuracy= 0.99219\n",
      " Minibatch Loss= 0.082082, Training Accuracy= 0.96875\n",
      " Minibatch Loss= 0.045839, Training Accuracy= 0.99219\n",
      " Minibatch Loss= 0.023492, Training Accuracy= 0.99219\n",
      " Minibatch Loss= 0.025810, Training Accuracy= 0.99219\n",
      " Minibatch Loss= 0.073001, Training Accuracy= 0.98438\n",
      " Minibatch Loss= 0.015473, Training Accuracy= 1.00000\n",
      " Minibatch Loss= 0.004992, Training Accuracy= 1.00000\n",
      " Minibatch Loss= 0.018957, Training Accuracy= 0.99219\n",
      " Minibatch Loss= 0.008486, Training Accuracy= 1.00000\n",
      " Minibatch Loss= 0.010693, Training Accuracy= 1.00000\n",
      " Minibatch Loss= 0.010478, Training Accuracy= 1.00000\n",
      " Minibatch Loss= 0.009739, Training Accuracy= 1.00000\n",
      " Minibatch Loss= 0.003472, Training Accuracy= 1.00000\n",
      " Minibatch Loss= 0.017457, Training Accuracy= 0.99219\n",
      " Minibatch Loss= 0.005251, Training Accuracy= 1.00000\n",
      " Minibatch Loss= 0.026275, Training Accuracy= 0.98438\n",
      " Minibatch Loss= 0.022792, Training Accuracy= 1.00000\n",
      " Minibatch Loss= 0.001804, Training Accuracy= 1.00000\n",
      " Minibatch Loss= 0.023057, Training Accuracy= 0.99219\n",
      " Minibatch Loss= 0.003847, Training Accuracy= 1.00000\n",
      " Minibatch Loss= 0.016004, Training Accuracy= 0.99219\n",
      " Minibatch Loss= 0.010998, Training Accuracy= 1.00000\n",
      " Minibatch Loss= 0.004749, Training Accuracy= 1.00000\n",
      " Minibatch Loss= 0.004627, Training Accuracy= 1.00000\n",
      " Minibatch Loss= 0.056017, Training Accuracy= 0.98438\n",
      " Minibatch Loss= 0.038494, Training Accuracy= 0.98438\n",
      " Minibatch Loss= 0.004677, Training Accuracy= 1.00000\n",
      " Minibatch Loss= 0.022682, Training Accuracy= 0.99219\n",
      " Minibatch Loss= 0.004541, Training Accuracy= 1.00000\n",
      " Minibatch Loss= 0.015046, Training Accuracy= 0.99219\n",
      " Minibatch Loss= 0.003273, Training Accuracy= 1.00000\n",
      " Minibatch Loss= 0.038052, Training Accuracy= 0.98438\n",
      " Minibatch Loss= 0.003618, Training Accuracy= 1.00000\n",
      " Minibatch Loss= 0.002781, Training Accuracy= 1.00000\n",
      " Minibatch Loss= 0.003020, Training Accuracy= 1.00000\n",
      " Minibatch Loss= 0.012857, Training Accuracy= 0.99219\n",
      " Minibatch Loss= 0.004025, Training Accuracy= 1.00000\n",
      " Minibatch Loss= 0.001989, Training Accuracy= 1.00000\n",
      " Minibatch Loss= 0.011197, Training Accuracy= 0.99219\n",
      " Minibatch Loss= 0.002708, Training Accuracy= 1.00000\n",
      " Minibatch Loss= 0.011714, Training Accuracy= 1.00000\n",
      " Minibatch Loss= 0.003115, Training Accuracy= 1.00000\n",
      " Minibatch Loss= 0.002617, Training Accuracy= 1.00000\n",
      " Minibatch Loss= 0.004122, Training Accuracy= 1.00000\n",
      " Minibatch Loss= 0.002620, Training Accuracy= 1.00000\n",
      " Minibatch Loss= 0.001599, Training Accuracy= 1.00000\n",
      " Minibatch Loss= 0.004119, Training Accuracy= 1.00000\n",
      " Minibatch Loss= 0.003848, Training Accuracy= 1.00000\n",
      " Minibatch Loss= 0.005802, Training Accuracy= 1.00000\n",
      " Minibatch Loss= 0.000290, Training Accuracy= 1.00000\n",
      " Minibatch Loss= 0.004871, Training Accuracy= 1.00000\n",
      " Minibatch Loss= 0.006521, Training Accuracy= 1.00000\n",
      " Minibatch Loss= 0.001565, Training Accuracy= 1.00000\n",
      " Minibatch Loss= 0.001558, Training Accuracy= 1.00000\n",
      " Minibatch Loss= 0.000963, Training Accuracy= 1.00000\n",
      " Minibatch Loss= 0.001437, Training Accuracy= 1.00000\n",
      " Minibatch Loss= 0.000768, Training Accuracy= 1.00000\n",
      " Minibatch Loss= 0.002629, Training Accuracy= 1.00000\n",
      " Minibatch Loss= 0.000272, Training Accuracy= 1.00000\n",
      " Minibatch Loss= 0.000525, Training Accuracy= 1.00000\n",
      " Minibatch Loss= 0.007589, Training Accuracy= 0.99219\n",
      " Minibatch Loss= 0.000848, Training Accuracy= 1.00000\n",
      " Minibatch Loss= 0.004125, Training Accuracy= 1.00000\n",
      " Minibatch Loss= 0.001156, Training Accuracy= 1.00000\n",
      " Minibatch Loss= 0.000990, Training Accuracy= 1.00000\n",
      "Optimization Finished!\n",
      "Testing Accuracy: 0.9851\n"
     ]
    }
   ],
   "source": [
    "# Parameters\n",
    "epochs = 100\n",
    "num_steps = int(55000/batch_size)\n",
    "display_step = 801\n",
    "# Create a session to run the model\n",
    "with tf.Session(graph=graph_biRnn) as sess:\n",
    "    # Initializing the variables\n",
    "    init = tf.global_variables_initializer()\n",
    "    sess.run(init)\n",
    "    for _ in range(epochs):\n",
    "        # Keep training until reach max iterations\n",
    "        for step in np.arange(num_steps):\n",
    "            batch_x, batch_y = mnist.train.next_batch(batch_size)\n",
    "            # Reshape data to get 28 seq of 28 elements\n",
    "            batch_x = batch_x.reshape((batch_size, n_steps, n_input))\n",
    "            # Run optimization op (backprop)\n",
    "            sess.run(train_op, feed_dict={x: batch_x, y: batch_y})\n",
    "            if step % display_step == 0:\n",
    "                # Calculate batch accuracy\n",
    "                acc = sess.run(accuracy, feed_dict={x: batch_x, y: batch_y})\n",
    "                # Calculate batch loss\n",
    "                loss = sess.run(cross_entropy, feed_dict={x: batch_x, y: batch_y})\n",
    "                print(\" Minibatch Loss= \" + \\\n",
    "                  \"{:.6f}\".format(loss) + \", Training Accuracy= \" + \\\n",
    "                  \"{:.5f}\".format(acc))\n",
    "\n",
    "    print(\"Optimization Finished!\")\n",
    "\n",
    "    # Calculate accuracy for 128 mnist test images\n",
    "    test_data = mnist.test.images.reshape((-1, n_steps, n_input))\n",
    "    test_label = mnist.test.labels\n",
    "    print(\"Testing Accuracy:\", \\\n",
    "        sess.run(accuracy, feed_dict={x: test_data, y: test_label}))"
   ]
  },
  {
   "cell_type": "markdown",
   "metadata": {},
   "source": [
    "## Generative Adversarial Model"
   ]
  },
  {
   "cell_type": "markdown",
   "metadata": {},
   "source": [
    "This example shows how to use generative adversarial model to create fake MNIST images and try to distinguish them. Referrence: https://github.com/wiseodd/generative-models/tree/master/GAN"
   ]
  },
  {
   "cell_type": "code",
   "execution_count": 14,
   "metadata": {
    "collapsed": true
   },
   "outputs": [],
   "source": [
    "#import required packages\n",
    "import matplotlib.pyplot as plt\n",
    "%matplotlib inline\n",
    "import matplotlib.gridspec as gridspec\n",
    "import os"
   ]
  },
  {
   "cell_type": "markdown",
   "metadata": {},
   "source": [
    "Define the architecture for generator and discriminator."
   ]
  },
  {
   "cell_type": "code",
   "execution_count": 15,
   "metadata": {
    "collapsed": true
   },
   "outputs": [],
   "source": [
    "graph_gan = tf.Graph()\n",
    "with graph_gan.as_default():\n",
    "    #Define xavier initializing method, tries to keep variance concentrated\n",
    "    #http://machinelearning.wustl.edu/mlpapers/paper_files/AISTATS2010_GlorotB10.pdf\n",
    "    initializer = tf.contrib.layers.xavier_initializer()\n",
    "    #Create Discriminator\n",
    "    X = tf.placeholder(tf.float32, shape=[None, 784])  \n",
    "    D_W1 = tf.Variable(initializer([784, 128]))\n",
    "    D_b1 = tf.Variable(tf.zeros(shape=[128]))\n",
    "    D_W2 = tf.Variable(initializer([128, 1]))\n",
    "    D_b2 = tf.Variable(tf.zeros(shape=[1]))\n",
    "    theta_D = [D_W1, D_W2, D_b1, D_b2]\n",
    "    #Create Discriminator\n",
    "    #Judge whether an image is real\n",
    "    #Discriminate the input digit\n",
    "    #Return a probability\n",
    "    def discriminator(x):\n",
    "        D_h1 = tf.nn.relu(tf.matmul(x, D_W1) + D_b1)\n",
    "        D_logit = tf.matmul(D_h1, D_W2) + D_b2\n",
    "        D_prob = tf.nn.sigmoid(D_logit)\n",
    "        return D_prob, D_logit\n",
    "    \n",
    "    #Parameters for generator\n",
    "    #Z is a noise to generate an image\n",
    "    Z = tf.placeholder(tf.float32, shape=[None, 100])\n",
    "    G_W1 = tf.Variable(initializer([100, 128]))\n",
    "    G_b1 = tf.Variable(tf.zeros(shape=[128]))\n",
    "    G_W2 = tf.Variable(initializer([128, 784]))\n",
    "    G_b2 = tf.Variable(tf.zeros(shape=[784]))\n",
    "    theta_G = [G_W1, G_W2, G_b1, G_b2]\n",
    "    \n",
    "    #Generate a digit from random noise\n",
    "    #Return a fake digit \n",
    "    def generator(z):\n",
    "        G_h1 = tf.nn.relu(tf.matmul(z, G_W1) + G_b1)\n",
    "        G_log_prob = tf.matmul(G_h1, G_W2) + G_b2\n",
    "        G_prob = tf.nn.sigmoid(G_log_prob)\n",
    "        return G_prob"
   ]
  },
  {
   "cell_type": "code",
   "execution_count": 16,
   "metadata": {
    "collapsed": true
   },
   "outputs": [],
   "source": [
    "def sample_Z(m, n):\n",
    "    return np.random.uniform(-1., 1., size=[m, n])\n",
    "\n",
    "#Plot the samples\n",
    "def plot(samples):\n",
    "    fig = plt.figure(figsize=(4, 4))\n",
    "    gs = gridspec.GridSpec(4, 4)\n",
    "    gs.update(wspace=0.05, hspace=0.05)\n",
    "\n",
    "    for i, sample in enumerate(samples):\n",
    "        ax = plt.subplot(gs[i])\n",
    "        plt.axis('off')\n",
    "        ax.set_xticklabels([])\n",
    "        ax.set_yticklabels([])\n",
    "        ax.set_aspect('equal')\n",
    "        plt.imshow(sample.reshape(28, 28), cmap='Greys_r')\n",
    "\n",
    "    return fig"
   ]
  },
  {
   "cell_type": "code",
   "execution_count": 17,
   "metadata": {
    "collapsed": true
   },
   "outputs": [],
   "source": [
    "with graph_gan.as_default():\n",
    "    G_sample = generator(Z)\n",
    "    #For real digit image\n",
    "    D_real, D_logit_real = discriminator(X)\n",
    "    #For generated digit image\n",
    "    D_fake, D_logit_fake = discriminator(G_sample)\n",
    "    \n",
    "    #There are two steps\n",
    "    #For the discriminator\n",
    "    #The probability of real should be larger \n",
    "    #whereas the probability for the generated digit image should be lower\n",
    "    D_loss = -tf.reduce_mean(tf.log(D_real) + tf.log(1. - D_fake))\n",
    "    #For the generator, it intends to make the fake images more real\n",
    "    G_loss = -tf.reduce_mean(tf.log(D_fake))\n",
    "    \n",
    "    #Two optimizer for both descriminator and generator\n",
    "    D_optimizer = tf.train.AdamOptimizer().minimize(D_loss, var_list=theta_D)\n",
    "    G_optimizer = tf.train.AdamOptimizer().minimize(G_loss, var_list=theta_G)"
   ]
  },
  {
   "cell_type": "code",
   "execution_count": 18,
   "metadata": {
    "collapsed": false
   },
   "outputs": [
    {
     "name": "stdout",
     "output_type": "stream",
     "text": [
      "Iter: 0\n",
      "D loss: 1.43\n",
      "G_loss: 2.573\n",
      "\n",
      "Iter: 1000\n",
      "D loss: 0.004664\n",
      "G_loss: 7.032\n",
      "\n",
      "Iter: 2000\n",
      "D loss: 0.02508\n",
      "G_loss: 5.806\n",
      "\n",
      "Iter: 3000\n",
      "D loss: 0.03886\n",
      "G_loss: 5.96\n",
      "\n",
      "Iter: 4000\n",
      "D loss: 0.08969\n",
      "G_loss: 5.131\n",
      "\n",
      "Iter: 5000\n",
      "D loss: 0.2752\n",
      "G_loss: 5.613\n",
      "\n",
      "Iter: 6000\n",
      "D loss: 0.3167\n",
      "G_loss: 4.496\n",
      "\n",
      "Iter: 7000\n",
      "D loss: 0.4579\n",
      "G_loss: 3.85\n",
      "\n",
      "Iter: 8000\n",
      "D loss: 0.4204\n",
      "G_loss: 3.968\n",
      "\n",
      "Iter: 9000\n",
      "D loss: 0.5905\n",
      "G_loss: 2.849\n",
      "\n"
     ]
    }
   ],
   "source": [
    "batch_size = 128\n",
    "Z_dim = 100\n",
    "\n",
    "with tf.Session(graph=graph_gan) as sess:\n",
    "    sess.run(tf.global_variables_initializer())\n",
    "    #Set the output path for faked digit images\n",
    "    if not os.path.exists('out/'):\n",
    "        os.makedirs('out/')\n",
    "    i = 0\n",
    "    for it in np.arange(10000):\n",
    "        if it % 1000 == 0:\n",
    "            #Generate faked digit images and save them\n",
    "            samples = sess.run(G_sample, feed_dict={Z: sample_Z(16, Z_dim)})\n",
    "            fig = plot(samples)\n",
    "            plt.savefig('out/{}.png'.format(str(i).zfill(3)), bbox_inches='tight')\n",
    "            i += 1\n",
    "            plt.close(fig)\n",
    "\n",
    "        X_mb, _ = mnist.train.next_batch(batch_size)\n",
    "\n",
    "        _, D_loss_curr = sess.run([D_optimizer, D_loss], feed_dict={X: X_mb, Z: sample_Z(batch_size, Z_dim)})\n",
    "        _, G_loss_curr = sess.run([G_optimizer, G_loss], feed_dict={Z: sample_Z(batch_size, Z_dim)})\n",
    "\n",
    "        if it % 1000 == 0:\n",
    "            print('Iter: {}'.format(it))\n",
    "            print('D loss: {:.4}'. format(D_loss_curr))\n",
    "            print('G_loss: {:.4}'.format(G_loss_curr))\n",
    "            print()"
   ]
  },
  {
   "cell_type": "code",
   "execution_count": 19,
   "metadata": {
    "collapsed": false
   },
   "outputs": [
    {
     "data": {
      "image/png": "[encoded data removed]",
      "text/plain": [
       "<matplotlib.figure.Figure at 0x1f294b8cfd0>"
      ]
     },
     "execution_count": 19,
     "metadata": {},
     "output_type": "execute_result"
    }
   ],
   "source": [
    "fig"
   ]
  },
  {
   "cell_type": "code",
   "execution_count": null,
   "metadata": {
    "collapsed": true
   },
   "outputs": [],
   "source": []
  }
 ],
 "metadata": {
  "anaconda-cloud": {},
  "kernelspec": {
   "display_name": "Python [default]",
   "language": "python",
   "name": "python3"
  },
  "language_info": {
   "codemirror_mode": {
    "name": "ipython",
    "version": 3
   },
   "file_extension": ".py",
   "mimetype": "text/x-python",
   "name": "python",
   "nbconvert_exporter": "python",
   "pygments_lexer": "ipython3",
   "version": "3.5.2"
  }
 },
 "nbformat": 4,
 "nbformat_minor": 2
}
