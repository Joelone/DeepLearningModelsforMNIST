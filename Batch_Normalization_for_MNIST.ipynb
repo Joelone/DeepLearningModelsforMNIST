{
 "cells": [
  {
   "cell_type": "code",
   "execution_count": 1,
   "metadata": {
    "collapsed": false
   },
   "outputs": [
    {
     "name": "stdout",
     "output_type": "stream",
     "text": [
      "Extracting MNIST_data/train-images-idx3-ubyte.gz\n",
      "Extracting MNIST_data/train-labels-idx1-ubyte.gz\n",
      "Extracting MNIST_data/t10k-images-idx3-ubyte.gz\n",
      "Extracting MNIST_data/t10k-labels-idx1-ubyte.gz\n"
     ]
    }
   ],
   "source": [
    "#Import required packages\n",
    "import tensorflow as tf\n",
    "import numpy as np\n",
    "from matplotlib import pyplot as plt\n",
    "%matplotlib inline\n",
    "#Load MNIST dataset\n",
    "import tensorflow.examples.tutorials.mnist.input_data as input_data\n",
    "mnist = input_data.read_data_sets(\"MNIST_data/\", one_hot=True)"
   ]
  },
  {
   "cell_type": "code",
   "execution_count": 2,
   "metadata": {
    "collapsed": false
   },
   "outputs": [
    {
     "name": "stdout",
     "output_type": "stream",
     "text": [
      "[ 0.  0.  0.  0.  0.  0.  0.  0.  1.  0.]\n"
     ]
    },
    {
     "data": {
      "image/png": "[encoded data removed]",
      "text/plain": [
       "<matplotlib.figure.Figure at 0x21e72de3ef0>"
      ]
     },
     "metadata": {},
     "output_type": "display_data"
    }
   ],
   "source": [
    "plt.imshow(mnist.train.images[5].reshape([28, 28]))\n",
    "print(mnist.train.labels[5])"
   ]
  },
  {
   "cell_type": "code",
   "execution_count": 3,
   "metadata": {
    "collapsed": true
   },
   "outputs": [],
   "source": [
    "n_tr = mnist.train.images.shape[0]# number of training samples\n",
    "n_ts = mnist.test.images.shape[0]#number of testing samples\n",
    "n_pixel = mnist.train.images.shape[1]"
   ]
  },
  {
   "cell_type": "code",
   "execution_count": 4,
   "metadata": {
    "collapsed": true
   },
   "outputs": [],
   "source": [
    "#Create weights\n",
    "def weight_variable(shape):\n",
    "  initial = tf.truncated_normal(shape, stddev=0.01)\n",
    "  return tf.Variable(initial, name='weights')\n",
    "\n",
    "#Create biases\n",
    "def bias_variable(shape):\n",
    "  initial = tf.constant(0.01, shape=shape)\n",
    "  return tf.Variable(initial, name='biases')"
   ]
  },
  {
   "cell_type": "code",
   "execution_count": null,
   "metadata": {
    "collapsed": true
   },
   "outputs": [],
   "source": [
    "#Convolutional function\n",
    "def conv2d(x, W):\n",
    "  return tf.nn.conv2d(x, W, strides=[1, 1, 1, 1], padding='SAME')\n",
    "#Max pool function\n",
    "def max_pool_2x2(x):\n",
    "  return tf.nn.max_pool(x, ksize=[1, 2, 2, 1],\n",
    "                        strides=[1, 2, 2, 1], padding='SAME')"
   ]
  },
  {
   "cell_type": "code",
   "execution_count": 5,
   "metadata": {
    "collapsed": true
   },
   "outputs": [],
   "source": [
    "def _get_variable(name,\n",
    "                  shape,\n",
    "                  initializer,\n",
    "                  weight_decay=0.0,\n",
    "                  dtype='float',\n",
    "                  trainable=True):\n",
    "\n",
    "    \"A little wrapper around tf.get_variable to do weight decay and add to\"\n",
    "\n",
    "    \"resnet collection\"\n",
    "\n",
    "    if weight_decay > 0:\n",
    "        regularizer = tf.contrib.layers.l2_regularizer(weight_decay)\n",
    "    else:\n",
    "        regularizer = None\n",
    "    collections = [tf.GraphKeys.VARIABLES, \"batch_norm_variables\"]\n",
    "    return tf.get_variable(name,\n",
    "                           shape=shape,\n",
    "                           initializer=initializer,\n",
    "                           dtype=dtype,\n",
    "                           regularizer=regularizer,\n",
    "                           collections=collections,\n",
    "                           trainable=trainable)"
   ]
  },
  {
   "cell_type": "code",
   "execution_count": null,
   "metadata": {
    "collapsed": true
   },
   "outputs": [],
   "source": [
    "from tensorflow.python.training import moving_averages\n",
    "from tensorflow.python.ops import control_flow_ops\n",
    "def batch_normlization(x, is_training=True):\n",
    "    x_shape = x.get_shape()\n",
    "    params_shape = x_shape[-1:]\n",
    "    axis = list(range(len(x_shape) - 1))\n",
    "    beta = _get_variable('beta',\n",
    "                         params_shape,\n",
    "                         initializer=tf.zeros_initializer)\n",
    "    gamma = _get_variable('gamma',\n",
    "                          params_shape,\n",
    "                          initializer=tf.ones_initializer)\n",
    "    moving_mean = _get_variable('moving_mean',\n",
    "                                params_shape,\n",
    "                                initializer=tf.zeros_initializer,\n",
    "                                trainable=False)\n",
    "    moving_variance = _get_variable('moving_variance',\n",
    "                                    params_shape,\n",
    "                                    initializer=tf.ones_initializer,\n",
    "                                    trainable=False)\n",
    "    \n",
    "    # These ops will only be preformed when training.\n",
    "\n",
    "    mean, variance = tf.nn.moments(x, axis)\n",
    "\n",
    "    update_moving_mean = moving_averages.assign_moving_average(moving_mean,\n",
    "                                                               mean, 0.9997)\n",
    "    update_moving_variance = moving_averages.assign_moving_average(\n",
    "\n",
    "        moving_variance, variance, 0.9997)\n",
    "\n",
    "    tf.add_to_collection(\"UPDATE_OPS_COLLECTION\", update_moving_mean)\n",
    "\n",
    "    tf.add_to_collection(\"UPDATE_OPS_COLLECTION\", update_moving_variance)\n",
    "    \n",
    "    mean, variance = control_flow_ops.cond(1>0, lambda: (mean, variance),\n",
    "                                           lambda: (moving_mean, moving_variance))\n",
    "    x = tf.nn.batch_normalization(x, mean, variance, beta, gamma, 0.001)\n",
    "    #x.set_shape(inputs.get_shape()) ??\n",
    "    return x\n"
   ]
  }
 ],
 "metadata": {
  "kernelspec": {
   "display_name": "Python 3",
   "language": "python",
   "name": "python3"
  },
  "language_info": {
   "codemirror_mode": {
    "name": "ipython",
    "version": 3
   },
   "file_extension": ".py",
   "mimetype": "text/x-python",
   "name": "python",
   "nbconvert_exporter": "python",
   "pygments_lexer": "ipython3",
   "version": "3.5.2"
  }
 },
 "nbformat": 4,
 "nbformat_minor": 2
}
