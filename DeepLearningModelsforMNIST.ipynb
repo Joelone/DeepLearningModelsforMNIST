{
 "cells": [
  {
   "cell_type": "markdown",
   "metadata": {},
   "source": [
    "This project aims to leverage toy examples to illustrate how to build linear model, deep neural networks, convolutional nueral networds as well as recurrent neural networks by [Tensorflow](www.tensorflow.org). The dataset is famous handwritten digits dataset, namely [MNIST](http://yann.lecun.com/exdb/mnist/)."
   ]
  },
  {
   "cell_type": "code",
   "execution_count": 1,
   "metadata": {
    "collapsed": false
   },
   "outputs": [
    {
     "name": "stdout",
     "output_type": "stream",
     "text": [
      "Extracting MNIST_data/train-images-idx3-ubyte.gz\n",
      "Extracting MNIST_data/train-labels-idx1-ubyte.gz\n",
      "Extracting MNIST_data/t10k-images-idx3-ubyte.gz\n",
      "Extracting MNIST_data/t10k-labels-idx1-ubyte.gz\n"
     ]
    }
   ],
   "source": [
    "#Import required packages\n",
    "import tensorflow as tf\n",
    "import numpy as np\n",
    "#Load MNIST dataset\n",
    "import tensorflow.examples.tutorials.mnist.input_data as input_data\n",
    "mnist = input_data.read_data_sets(\"MNIST_data/\", one_hot=True)"
   ]
  },
  {
   "cell_type": "markdown",
   "metadata": {},
   "source": [
    "## Linear Model"
   ]
  },
  {
   "cell_type": "markdown",
   "metadata": {
    "collapsed": true
   },
   "source": [
    "Here's an simple linear model to do classification on MNIST."
   ]
  },
  {
   "cell_type": "code",
   "execution_count": 3,
   "metadata": {
    "collapsed": true
   },
   "outputs": [],
   "source": [
    "#Create a linear graph, define its architecture in terms of nodes and compuatations\n",
    "graph_linear = tf.Graph()\n",
    "with graph_linear.as_default():\n",
    "    #Define input placeholder and target placeholder\n",
    "    x = tf.placeholder(tf.float32, [None, 784], name='x_placeholder')\n",
    "    y_ = tf.placeholder(tf.float32, [None,10], name='y_placeholder')\n",
    "    #Define a linear model structure\n",
    "    def linearModel(x):\n",
    "        #Create weights and biases\n",
    "        W = tf.Variable(tf.zeros([784,10]), name='weights')\n",
    "        b = tf.Variable(tf.zeros([10]), name='biases')\n",
    "        #Softmax output \n",
    "        y = tf.nn.softmax(tf.matmul(x,W) + b)\n",
    "        return y\n",
    "    y = linearModel(x)\n",
    "    #Cross entropy as the loss\n",
    "    cross_entropy = -tf.reduce_sum(y_*tf.log(y))\n",
    "    #Use gradient descent method to optmize\n",
    "    train_step = tf.train.GradientDescentOptimizer(0.01).minimize(cross_entropy)\n",
    "    correct_prediction = tf.equal(tf.argmax(y,1), tf.argmax(y_,1))\n",
    "    accuracy = tf.reduce_mean(tf.cast(correct_prediction, \"float\"))"
   ]
  },
  {
   "cell_type": "code",
   "execution_count": 5,
   "metadata": {
    "collapsed": false
   },
   "outputs": [
    {
     "name": "stdout",
     "output_type": "stream",
     "text": [
      "Test Accuracy： 0.3045\n",
      "Test Accuracy： 0.9028\n",
      "Test Accuracy： 0.8992\n",
      "Test Accuracy： 0.9103\n",
      "Test Accuracy： 0.9211\n",
      "Test Accuracy： 0.9175\n",
      "Test Accuracy： 0.9187\n",
      "Test Accuracy： 0.9185\n",
      "Test Accuracy： 0.9005\n",
      "Test Accuracy： 0.9195\n",
      "Test Accuracy： 0.919\n"
     ]
    }
   ],
   "source": [
    "num_steps = 5001\n",
    "batch_size = 64\n",
    "#Create a session, in order to run the graph\n",
    "with tf.Session(graph=graph_linear) as sess:\n",
    "    #Initialize all the variables created above\n",
    "    init_op = tf.global_variables_initializer()\n",
    "    sess.run(init_op)\n",
    "    for step in range(num_steps):\n",
    "        offset = (step * batch_size) % (mnist.train.labels.shape[0] - batch_size)\n",
    "        #Feed the dataset to the placeholders      \n",
    "        batch_data = mnist.train.images[offset:(offset + batch_size), :]\n",
    "        batch_labels = mnist.train.labels[offset:(offset + batch_size), :]\n",
    "        #Pass the data to a dictionary\n",
    "        feed_dict = {x : batch_data, y_ : batch_labels}\n",
    "        #Train the model by feeding batch data\n",
    "        _, loss = sess.run([train_step, cross_entropy], feed_dict=feed_dict)\n",
    "        #Calculate acccuracy after 500 times training\n",
    "        if step%500 == 0:\n",
    "            result = sess.run(accuracy, feed_dict={x: mnist.test.images, y_: mnist.test.labels})\n",
    "            print(\"Test Accuracy：\", result)"
   ]
  },
  {
   "cell_type": "markdown",
   "metadata": {},
   "source": [
    "## Fully Connected Model\n",
    "\n",
    "This example uses several fully connected neural network layers to train the classification."
   ]
  },
  {
   "cell_type": "code",
   "execution_count": 8,
   "metadata": {
    "collapsed": false
   },
   "outputs": [],
   "source": [
    "#Created a fully connected graph\n",
    "graph_fully = tf.Graph()\n",
    "with graph_fully.as_default() as g:\n",
    "    #Define input placeholders\n",
    "    x = tf.placeholder(tf.float32, [None, 784])\n",
    "    y_ = tf.placeholder(tf.float32, [None,10])\n",
    "    num_class = y.shape[1].value\n",
    "    num_pixel = x.shape[1].value\n",
    "    #Define the architecture of neural networks\n",
    "    def multiHiddenLayer(x, layers):\n",
    "        num_layer = len(layers)\n",
    "        pre_units = num_pixel#输入节点\n",
    "        next_units = pre_units#输出节点\n",
    "        data = x\n",
    "        #Traverse each layer\n",
    "        for i in range(num_layer):            \n",
    "            with g.name_scope('hidden'+str(i)):\n",
    "                #权重\n",
    "                next_units = layers[i]\n",
    "                weights = tf.Variable(\n",
    "                    tf.truncated_normal([pre_units, next_units],\n",
    "                                        stddev=1.0 / np.sqrt(float(pre_units))),\n",
    "                    name='weights')\n",
    "                #偏差\n",
    "                biases = tf.Variable(tf.zeros([next_units]), \n",
    "                                     name='biases')\n",
    "                hidden = tf.nn.relu(tf.matmul(data, weights) + biases)\n",
    "                data = hidden\n",
    "                pre_units = next_units\n",
    "        # Linear\n",
    "        with g.name_scope('softmax_linear'):\n",
    "            weights = tf.Variable(\n",
    "                tf.truncated_normal([next_units, num_class],\n",
    "                                    stddev=1.0 / np.sqrt(float(next_units))),\n",
    "                name='weights')\n",
    "            biases = tf.Variable(tf.zeros([num_class]),\n",
    "                                 name='biases')\n",
    "            logits = tf.matmul(data, weights) + biases\n",
    "        return tf.nn.softmax(logits)"
   ]
  },
  {
   "cell_type": "code",
   "execution_count": 9,
   "metadata": {
    "collapsed": false
   },
   "outputs": [],
   "source": [
    "with graph_fully.as_default() as g:\n",
    "    layers = [128, 64]#neurons for each layer\n",
    "    y = multiHiddenLayer(x, layers)\n",
    "    #定义目标函数，采用交叉熵\n",
    "    cross_entropy = -tf.reduce_sum(y_*tf.log(y))\n",
    "    #定义训练方式，梯度下降法\n",
    "    train_step = tf.train.GradientDescentOptimizer(0.01).minimize(cross_entropy)\n",
    "    #定义模型评价指标精确度\n",
    "    correct_prediction = tf.equal(tf.argmax(y,1), tf.argmax(y_,1))\n",
    "    accuracy = tf.reduce_mean(tf.cast(correct_prediction, \"float\"))"
   ]
  },
  {
   "cell_type": "code",
   "execution_count": 11,
   "metadata": {
    "collapsed": false
   },
   "outputs": [
    {
     "name": "stdout",
     "output_type": "stream",
     "text": [
      "Test Accuracy： 0.1991\n",
      "Test Accuracy： 0.9385\n",
      "Test Accuracy： 0.9543\n",
      "Test Accuracy： 0.9627\n",
      "Test Accuracy： 0.9682\n",
      "Test Accuracy： 0.9651\n",
      "Test Accuracy： 0.9672\n",
      "Test Accuracy： 0.9651\n",
      "Test Accuracy： 0.9709\n",
      "Test Accuracy： 0.9687\n",
      "Test Accuracy： 0.9654\n"
     ]
    }
   ],
   "source": [
    "num_steps = 5001\n",
    "batch_size = 64\n",
    "#Create a session\n",
    "with tf.Session(graph=graph_fully) as sess:\n",
    "    #Initialize all the variables\n",
    "    init_op = tf.global_variables_initializer()\n",
    "    sess.run(init_op)\n",
    "    for step in range(num_steps):\n",
    "        offset = (step * batch_size) % (mnist.train.labels.shape[0] - batch_size)\n",
    "        #Feed the placeholder    \n",
    "        batch_data = mnist.train.images[offset:(offset + batch_size), :]\n",
    "        batch_labels = mnist.train.labels[offset:(offset + batch_size), :]\n",
    "        #Pass the data\n",
    "        feed_dict = {x : batch_data, y_ : batch_labels}\n",
    "        _, loss = sess.run([train_step, cross_entropy], feed_dict=feed_dict)\n",
    "        if step%500 == 0:\n",
    "            result = sess.run(accuracy, feed_dict={x: mnist.test.images, y_: mnist.test.labels})\n",
    "            print(\"Test Accuracy：\", result)"
   ]
  },
  {
   "cell_type": "markdown",
   "metadata": {},
   "source": [
    "## Convolutional Neural Network\n",
    "\n",
    "Following example shows how to create a convolutional neural network. In addition, 'name_scope' is taken into consideration for each layer. Reference:http://wiki.jikexueyuan.com/project/tensorflow-zh/how_tos/variable_scope.html"
   ]
  },
  {
   "cell_type": "code",
   "execution_count": 2,
   "metadata": {
    "collapsed": true
   },
   "outputs": [],
   "source": [
    "#Create weights\n",
    "def weight_variable(shape):\n",
    "  initial = tf.truncated_normal(shape, stddev=0.1)\n",
    "  return tf.Variable(initial, name='weights')\n",
    "#Create biases\n",
    "def bias_variable(shape):\n",
    "  initial = tf.constant(0.1, shape=shape)\n",
    "  return tf.Variable(initial, name='biases')"
   ]
  },
  {
   "cell_type": "code",
   "execution_count": 3,
   "metadata": {
    "collapsed": true
   },
   "outputs": [],
   "source": [
    "#Convolutional function\n",
    "def conv2d(x, W):\n",
    "  return tf.nn.conv2d(x, W, strides=[1, 1, 1, 1], padding='SAME')\n",
    "#Max pool function\n",
    "def max_pool_2x2(x):\n",
    "  return tf.nn.max_pool(x, ksize=[1, 2, 2, 1],\n",
    "                        strides=[1, 2, 2, 1], padding='SAME')"
   ]
  },
  {
   "cell_type": "code",
   "execution_count": 7,
   "metadata": {
    "collapsed": true
   },
   "outputs": [],
   "source": [
    "def conv_relu_pool(input, kernel_shape, bias_shape):\n",
    "    # Create variable named \"weights\".\n",
    "    weights = weight_variable(kernel_shape)\n",
    "    # Create variable named \"biases\".\n",
    "    biases = bias_variable(bias_shape)\n",
    "    conv = conv2d(input, weights)\n",
    "    relu = tf.nn.relu(conv + biases)\n",
    "    pool = max_pool_2x2(relu)\n",
    "    return pool"
   ]
  },
  {
   "cell_type": "code",
   "execution_count": 14,
   "metadata": {
    "collapsed": true
   },
   "outputs": [],
   "source": [
    "def cnnLayer(x, keep_prob):\n",
    "    x_image = tf.reshape(x, [-1,28,28,1])\n",
    "    #First Conv\n",
    "    with tf.variable_scope('hidden1'):\n",
    "        kernel_shape, bias_shape = [5, 5, 1, 32], [32] \n",
    "        h_pool1 = conv_relu_pool(x_image, kernel_shape, bias_shape)\n",
    "        \n",
    "    #Second Conv\n",
    "    with tf.variable_scope('hidden2'):\n",
    "        kernel_shape, bias_shape = [5, 5, 32, 64], [64] \n",
    "        h_pool2 = conv_relu_pool(h_pool1, kernel_shape, bias_shape)\n",
    "    \n",
    "    #Fully Connected Layer\n",
    "    with tf.variable_scope('fully_connected'):\n",
    "        W_fc1 = weight_variable([7 * 7 * 64, 1024])\n",
    "        b_fc1 = bias_variable([1024])\n",
    "        h_pool2_flat = tf.reshape(h_pool2, [-1, 7*7*64])\n",
    "        h_fc1 = tf.nn.relu(tf.matmul(h_pool2_flat, W_fc1) + b_fc1)\n",
    "        #Dropout, to prevent against overfitting      \n",
    "        h_fc1_drop = tf.nn.dropout(h_fc1, keep_prob)\n",
    "    #Softmax Layer\n",
    "    with tf.variable_scope('softmax_layer'):\n",
    "        W_fc2 = weight_variable([1024, 10])\n",
    "        b_fc2 = bias_variable([10])\n",
    "        logits = tf.matmul(h_fc1_drop, W_fc2) + b_fc2\n",
    "    return tf.nn.softmax(logits)"
   ]
  },
  {
   "cell_type": "code",
   "execution_count": 15,
   "metadata": {
    "collapsed": false
   },
   "outputs": [],
   "source": [
    "graph_cnn = tf.Graph()\n",
    "with graph_cnn.as_default() as g:\n",
    "    #Create input placeholders\n",
    "    x = tf.placeholder(tf.float32, [None, 784])\n",
    "    y_ = tf.placeholder(tf.float32, [None,10])\n",
    "    #Define ropout probability placholder\n",
    "    keep_prob = tf.placeholder(\"float\")   \n",
    "\n",
    "    y = cnnLayer(x, keep_prob)\n",
    "    #Define cross-entropy as loss function\n",
    "    cross_entropy = -tf.reduce_sum(y_*tf.log(y))\n",
    "    #Adam Optimizer\n",
    "    train_step = tf.train.AdamOptimizer(0.0005).minimize(cross_entropy)\n",
    "    #Define accuracy\n",
    "    correct_prediction = tf.equal(tf.argmax(y,1), tf.argmax(y_,1))\n",
    "    accuracy = tf.reduce_mean(tf.cast(correct_prediction, \"float\"))"
   ]
  },
  {
   "cell_type": "code",
   "execution_count": 18,
   "metadata": {
    "collapsed": false
   },
   "outputs": [
    {
     "name": "stdout",
     "output_type": "stream",
     "text": [
      "Testing Accuracy： 0.1185\n",
      "Testing Accuracy： 0.972\n",
      "Testing Accuracy： 0.9818\n",
      "Testing Accuracy： 0.9868\n",
      "Testing Accuracy： 0.9883\n",
      "Testing Accuracy： 0.9878\n",
      "Testing Accuracy： 0.9886\n",
      "Testing Accuracy： 0.9901\n",
      "Testing Accuracy： 0.9909\n",
      "Testing Accuracy： 0.9903\n",
      "Testing Accuracy： 0.9894\n"
     ]
    }
   ],
   "source": [
    "num_steps = 5001\n",
    "batch_size = 64\n",
    "#Create a session\n",
    "with tf.Session(graph=graph_cnn) as sess:\n",
    "    #Initialize variables\n",
    "    init_op = tf.global_variables_initializer()\n",
    "    sess.run(init_op)\n",
    "    for step in range(num_steps):\n",
    "        offset = (step * batch_size) % (mnist.train.labels.shape[0] - batch_size)\n",
    "        #Feed placeholders      \n",
    "        batch_data = mnist.train.images[offset:(offset + batch_size), :]\n",
    "        batch_labels = mnist.train.labels[offset:(offset + batch_size), :]\n",
    "        feed_dict = {x : batch_data, y_ : batch_labels, keep_prob: 0.5}\n",
    "        #Train\n",
    "        _, loss = sess.run([train_step, cross_entropy], feed_dict=feed_dict)\n",
    "        if step%500 == 0:\n",
    "            feed_dict = {x : mnist.test.images, y_ : mnist.test.labels, keep_prob: 1}\n",
    "            result = sess.run(accuracy, feed_dict=feed_dict)\n",
    "            print(\"Testing Accuracy：\", result)"
   ]
  },
  {
   "cell_type": "markdown",
   "metadata": {},
   "source": [
    "## Recurrent Neural Network"
   ]
  },
  {
   "cell_type": "code",
   "execution_count": 2,
   "metadata": {
    "collapsed": true
   },
   "outputs": [],
   "source": [
    "from tensorflow.contrib import rnn\n",
    "# Network Parameters\n",
    "n_input = 28 # MNIST data input (img shape: 28*28)\n",
    "n_steps = 28 # timesteps\n",
    "n_hidden = 128 # hidden layer num of features\n",
    "n_classes = 10 # MNIST total classes (0-9 digits)\n",
    "learning_rate = 0.001"
   ]
  },
  {
   "cell_type": "code",
   "execution_count": 3,
   "metadata": {
    "collapsed": false
   },
   "outputs": [],
   "source": [
    "graph_rnn = tf.Graph()\n",
    "with graph_rnn.as_default():\n",
    "    # tf Graph input\n",
    "    x = tf.placeholder(tf.float32, [None, n_steps, n_input])\n",
    "    y_ = tf.placeholder(tf.float32, [None, n_classes])\n",
    "    def rnnLayer(x):\n",
    "        # 矩阵变换，\n",
    "        x = tf.transpose(x, [1, 0, 2])\n",
    "        # (n_steps*batch_size, n_input)\n",
    "        x = tf.reshape(x, [-1, n_input])\n",
    "        # 按照步长拆分 (batch_size, n_input)\n",
    "        x = tf.split(x, n_steps, 0)\n",
    "        with tf.variable_scope(\"rnn_lstm\"):\n",
    "            # 输出连接层权重\n",
    "            weights = tf.Variable(tf.random_normal([n_hidden, n_classes]), name='weights')\n",
    "            biases = tf.Variable(tf.random_normal([n_classes]), name='biases')\n",
    "            # Define a lstm cell with tensorflow\n",
    "            lstm_cell = rnn.BasicLSTMCell(n_hidden, forget_bias=1.0)\n",
    "            with tf.variable_scope('rnn_layer'):\n",
    "                # Get lstm cell output\n",
    "                outputs, states = rnn.static_rnn(lstm_cell, x, dtype=tf.float32)\n",
    "            # Linear activation, using rnn inner loop last output\n",
    "        logits = tf.matmul(outputs[-1], weights) + biases\n",
    "        return tf.nn.softmax(logits)\n",
    "\n",
    "    y = rnnLayer(x)\n",
    "\n",
    "    # Define loss and optimizer\n",
    "    cross_entropy = -tf.reduce_mean(y_* tf.log(y))\n",
    "    optimizer = tf.train.AdamOptimizer(learning_rate=learning_rate).minimize(cross_entropy)\n",
    "\n",
    "    # Evaluate model\n",
    "    correct_pred = tf.equal(tf.argmax(y_,1), tf.argmax(y,1))\n",
    "    accuracy = tf.reduce_mean(tf.cast(correct_pred, tf.float32))\n",
    "\n"
   ]
  },
  {
   "cell_type": "code",
   "execution_count": 5,
   "metadata": {
    "collapsed": false
   },
   "outputs": [
    {
     "name": "stdout",
     "output_type": "stream",
     "text": [
      "Iter 0, Training Accuracy= 0.08594\n",
      "Iter 12800, Training Accuracy= 0.81250\n",
      "Iter 25600, Training Accuracy= 0.86719\n",
      "Iter 38400, Training Accuracy= 0.93750\n",
      "Iter 51200, Training Accuracy= 0.92969\n",
      "Iter 64000, Training Accuracy= 0.96094\n",
      "Iter 76800, Training Accuracy= 0.97656\n",
      "Iter 89600, Training Accuracy= 0.96875\n",
      "Iter 102400, Training Accuracy= 0.96875\n",
      "Iter 115200, Training Accuracy= 0.99219\n",
      "Iter 128000, Training Accuracy= 0.97656\n",
      "Iter 140800, Training Accuracy= 0.97656\n",
      "Iter 153600, Training Accuracy= 0.99219\n",
      "Iter 166400, Training Accuracy= 0.98438\n",
      "Iter 179200, Training Accuracy= 0.98438\n",
      "Iter 192000, Training Accuracy= 0.98438\n",
      "Iter 204800, Training Accuracy= 0.99219\n",
      "Iter 217600, Training Accuracy= 0.99219\n",
      "Iter 230400, Training Accuracy= 0.98438\n",
      "Iter 243200, Training Accuracy= 0.99219\n",
      "Iter 256000, Training Accuracy= 0.98438\n",
      "Iter 268800, Training Accuracy= 0.96875\n",
      "Iter 281600, Training Accuracy= 0.97656\n",
      "Iter 294400, Training Accuracy= 0.99219\n",
      "Iter 307200, Training Accuracy= 1.00000\n",
      "Iter 320000, Training Accuracy= 0.99219\n",
      "Iter 332800, Training Accuracy= 0.97656\n",
      "Iter 345600, Training Accuracy= 0.96875\n",
      "Iter 358400, Training Accuracy= 0.99219\n",
      "Iter 371200, Training Accuracy= 0.99219\n",
      "Iter 384000, Training Accuracy= 0.97656\n",
      "Iter 396800, Training Accuracy= 1.00000\n",
      "Iter 409600, Training Accuracy= 0.99219\n",
      "Iter 422400, Training Accuracy= 0.98438\n",
      "Iter 435200, Training Accuracy= 0.96875\n",
      "Iter 448000, Training Accuracy= 0.97656\n",
      "Iter 460800, Training Accuracy= 0.98438\n",
      "Iter 473600, Training Accuracy= 0.99219\n",
      "Iter 486400, Training Accuracy= 0.98438\n",
      "Iter 499200, Training Accuracy= 0.99219\n",
      "Iter 512000, Training Accuracy= 1.00000\n",
      "Iter 524800, Training Accuracy= 1.00000\n",
      "Iter 537600, Training Accuracy= 1.00000\n",
      "Iter 550400, Training Accuracy= 0.99219\n",
      "Iter 563200, Training Accuracy= 0.99219\n",
      "Iter 576000, Training Accuracy= 1.00000\n",
      "Iter 588800, Training Accuracy= 1.00000\n",
      "Iter 601600, Training Accuracy= 1.00000\n",
      "Iter 614400, Training Accuracy= 1.00000\n",
      "Iter 627200, Training Accuracy= 1.00000\n",
      "Iter 640000, Training Accuracy= 1.00000\n",
      "Optimization Finished!\n",
      "Testing Accuracy: 0.9848\n"
     ]
    }
   ],
   "source": [
    "# Parameters\n",
    "num_steps = 5001\n",
    "batch_size = 128\n",
    "display_step = 100\n",
    "# Launch the graph\n",
    "with tf.Session(graph=graph_rnn) as sess:\n",
    "    # Initializing the variables\n",
    "    init = tf.global_variables_initializer()\n",
    "    sess.run(init)\n",
    "    # Keep training until reach max iterations\n",
    "    for step in np.arange(num_steps):\n",
    "        batch_x, batch_y = mnist.train.next_batch(batch_size)\n",
    "        # Reshape data to get 28 seq of 28 elements\n",
    "        batch_x = batch_x.reshape((batch_size, n_steps, n_input))\n",
    "        # Run optimization op (backprop)\n",
    "        sess.run(optimizer, feed_dict={x: batch_x, y_: batch_y})\n",
    "        if step % display_step == 0:\n",
    "            # Calculate batch accuracy\n",
    "            acc = sess.run(accuracy, feed_dict={x: batch_x, y_: batch_y})\n",
    "\n",
    "            print(\"Iter \" + str(step*batch_size) + \", Training Accuracy= \" + \\\n",
    "                  \"{:.5f}\".format(acc))\n",
    "\n",
    "    print(\"Optimization Finished!\")\n",
    "\n",
    "    # Calculate accuracy for 128 mnist test images\n",
    "    test_data = mnist.test.images.reshape((-1, n_steps, n_input))\n",
    "    test_label = mnist.test.labels\n",
    "    print(\"Testing Accuracy:\", \\\n",
    "        sess.run(accuracy, feed_dict={x: test_data, y_: test_label}))"
   ]
  },
  {
   "cell_type": "markdown",
   "metadata": {},
   "source": [
    "## Multi-layer Rnn model"
   ]
  },
  {
   "cell_type": "markdown",
   "metadata": {},
   "source": [
    "In this example, we create a two-layer LSTM neural network with dropout method to prevent against overfitting."
   ]
  },
  {
   "cell_type": "code",
   "execution_count": 16,
   "metadata": {
    "collapsed": false
   },
   "outputs": [],
   "source": [
    "layer_num = 2 #LSTM layer number\n",
    "graph_multirnn = tf.Graph()\n",
    "with graph_multirnn.as_default():\n",
    "    # tf Graph input\n",
    "    x = tf.placeholder(tf.float32, [None, n_steps, n_input])\n",
    "    y_ = tf.placeholder(tf.float32, [None, n_classes])\n",
    "    keep_prob =tf.placeholder(tf.float32)\n",
    "    def rnnLayer(x):\n",
    "        # 矩阵变换，\n",
    "        x = tf.transpose(x, [1, 0, 2])\n",
    "        # (n_steps*batch_size, n_input)\n",
    "        x = tf.reshape(x, [-1, n_input])\n",
    "        # 按照步长拆分 (batch_size, n_input)\n",
    "        x = tf.split(x, n_steps, 0)\n",
    "        with tf.variable_scope(\"rnn_lstm\"):\n",
    "            # 输出连接层权重\n",
    "            weights = tf.Variable(tf.random_normal([n_hidden, n_classes]), name='weights')\n",
    "            biases = tf.Variable(tf.random_normal([n_classes]), name='biases')\n",
    "            # Define a lstm cell with tensorflow\n",
    "            lstm_cell = rnn.BasicLSTMCell(n_hidden, forget_bias=1.0)\n",
    "            #Add dropout to prevent against overfitting\n",
    "            lstm_cell = rnn.DropoutWrapper(cell=lstm_cell, input_keep_prob=1.0, output_keep_prob=keep_prob)\n",
    "            #Create two layer LSTM network\n",
    "            mlstm_cell = rnn.MultiRNNCell([lstm_cell] * layer_num, state_is_tuple=True)\n",
    "            with tf.variable_scope('rnn_layer'):\n",
    "                # Get lstm cell output, using dynamic rnn, the input is one tensor\n",
    "                #outputs, states = tf.nn.dynamic_rnn(mlstm_cell, x, dtype=tf.float32)\n",
    "                #if we use static rnn, we need to unrollthe graphs and the tensor slices\n",
    "                #x must be a list of tensors\n",
    "                outputs, states = rnn.static_rnn(mlstm_cell, x, dtype=tf.float32)\n",
    "            # Linear activation, using rnn inner loop last output\n",
    "        logits = tf.matmul(outputs[-1], weights) + biases\n",
    "        return tf.nn.softmax(logits)\n",
    "\n",
    "    y = rnnLayer(x)\n",
    "\n",
    "    # Define loss and optimizer\n",
    "    cross_entropy = -tf.reduce_mean(y_* tf.log(y))\n",
    "    optimizer = tf.train.AdamOptimizer(learning_rate=learning_rate).minimize(cross_entropy)\n",
    "\n",
    "    # Evaluate model\n",
    "    correct_pred = tf.equal(tf.argmax(y_,1), tf.argmax(y,1))\n",
    "    accuracy = tf.reduce_mean(tf.cast(correct_pred, tf.float32))"
   ]
  },
  {
   "cell_type": "code",
   "execution_count": 17,
   "metadata": {
    "collapsed": false
   },
   "outputs": [
    {
     "name": "stdout",
     "output_type": "stream",
     "text": [
      "Iter 0, Training Accuracy= 0.10938\n",
      "Iter 25600, Training Accuracy= 0.95312\n",
      "Iter 51200, Training Accuracy= 0.98438\n",
      "Iter 76800, Training Accuracy= 0.98438\n",
      "Iter 102400, Training Accuracy= 0.94531\n",
      "Iter 128000, Training Accuracy= 0.98438\n",
      "Iter 153600, Training Accuracy= 0.97656\n",
      "Iter 179200, Training Accuracy= 0.99219\n",
      "Iter 204800, Training Accuracy= 0.98438\n",
      "Iter 230400, Training Accuracy= 0.97656\n",
      "Iter 256000, Training Accuracy= 0.98438\n",
      "Iter 281600, Training Accuracy= 1.00000\n",
      "Iter 307200, Training Accuracy= 0.99219\n",
      "Iter 332800, Training Accuracy= 0.99219\n",
      "Iter 358400, Training Accuracy= 0.97656\n",
      "Iter 384000, Training Accuracy= 0.99219\n",
      "Iter 409600, Training Accuracy= 1.00000\n",
      "Iter 435200, Training Accuracy= 0.99219\n",
      "Iter 460800, Training Accuracy= 0.99219\n",
      "Iter 486400, Training Accuracy= 0.98438\n",
      "Iter 512000, Training Accuracy= 0.99219\n",
      "Iter 537600, Training Accuracy= 1.00000\n",
      "Iter 563200, Training Accuracy= 1.00000\n",
      "Iter 588800, Training Accuracy= 0.99219\n",
      "Iter 614400, Training Accuracy= 1.00000\n",
      "Iter 640000, Training Accuracy= 1.00000\n",
      "Optimization Finished!\n",
      "Testing Accuracy: 0.9887\n"
     ]
    }
   ],
   "source": [
    "# Parameters\n",
    "num_steps = 5001\n",
    "batch_size = 128\n",
    "display_step = 200\n",
    "# Launch the graph\n",
    "with tf.Session(graph=graph_multirnn) as sess:\n",
    "    # Initializing the variables\n",
    "    init = tf.global_variables_initializer()\n",
    "    sess.run(init)\n",
    "    # Keep training until reach max iterations\n",
    "    for step in np.arange(num_steps):\n",
    "        batch_x, batch_y = mnist.train.next_batch(batch_size)\n",
    "        # Reshape data to get 28 seq of 28 elements\n",
    "        batch_x = batch_x.reshape((batch_size, n_steps, n_input))\n",
    "        # Run optimization op (backprop)\n",
    "        sess.run(optimizer, feed_dict={x: batch_x, y_: batch_y, keep_prob: 0.5})\n",
    "        if step % display_step == 0:\n",
    "            # Calculate batch accuracy\n",
    "            acc = sess.run(accuracy, feed_dict={x: batch_x, y_: batch_y, keep_prob:1.0})\n",
    "\n",
    "            print(\"Iter \" + str(step*batch_size) + \", Training Accuracy= \" + \\\n",
    "                  \"{:.5f}\".format(acc))\n",
    "\n",
    "    print(\"Optimization Finished!\")\n",
    "\n",
    "    # Calculate accuracy for 128 mnist test images\n",
    "    test_data = mnist.test.images.reshape((-1, n_steps, n_input))\n",
    "    test_label = mnist.test.labels\n",
    "    print(\"Testing Accuracy:\", \\\n",
    "        sess.run(accuracy, feed_dict={x: test_data, y_: test_label, keep_prob: 1.0}))"
   ]
  },
  {
   "cell_type": "markdown",
   "metadata": {
    "collapsed": true
   },
   "source": [
    "## Bi-directional Rnn model\n",
    "\n",
    "This example shows how to apply Bidirectional RNN model to MNIST images, actually it leverages two RNN neetwork, one forward, one backward. Reference: https://github.com/aymericdamien/TensorFlow-Examples/tree/master/notebooks"
   ]
  },
  {
   "cell_type": "code",
   "execution_count": 25,
   "metadata": {
    "collapsed": true
   },
   "outputs": [],
   "source": [
    "# Parameters\n",
    "learning_rate = 0.001\n",
    "num_steps = 10000\n",
    "batch_size = 128\n",
    "display_step = 500\n",
    "\n",
    "# Network Parameters\n",
    "n_input = 28 # MNIST data input (img shape: 28*28)\n",
    "n_steps = 28 # timesteps\n",
    "n_hidden = 128 # hidden layer num of features\n",
    "n_classes = 10 # MNIST total classes (0-9 digits)"
   ]
  },
  {
   "cell_type": "code",
   "execution_count": 26,
   "metadata": {
    "collapsed": true
   },
   "outputs": [],
   "source": [
    "graph_biRnn = tf.Graph()\n",
    "with graph_biRnn.as_default():\n",
    "    # placeholder input\n",
    "    x = tf.placeholder(tf.float32, [None, n_steps, n_input])\n",
    "    y = tf.placeholder(tf.float32, [None, n_classes])\n",
    "\n",
    "\n",
    "    def birnnLayer(x):\n",
    "\n",
    "        # Prepare data shape to match `bidirectional_rnn` function requirements\n",
    "        # Current data input shape: (batch_size, n_steps, n_input)\n",
    "        # Required shape: 'n_steps' tensors list of shape (batch_size, n_input)\n",
    "    \n",
    "        # Permuting batch_size and n_steps\n",
    "        x = tf.transpose(x, [1, 0, 2])\n",
    "        # Reshape to (n_steps*batch_size, n_input)\n",
    "        x = tf.reshape(x, [-1, n_input])\n",
    "        # Split to get a list of 'n_steps' tensors of shape (batch_size, n_input)\n",
    "        x = tf.split(x, n_steps, 0)\n",
    "        \n",
    "        # Define weights\n",
    "        weights = {\n",
    "              # Hidden layer weights => 2*n_hidden because of foward + backward cells\n",
    "              'out': tf.Variable(tf.random_normal([2*n_hidden, n_classes]), name='weights')}\n",
    "        biases = {\n",
    "              'out': tf.Variable(tf.random_normal([n_classes]), name='biases')}\n",
    "\n",
    "        # Define lstm cells with tensorflow\n",
    "        # Forward direction cell\n",
    "        with tf.variable_scope('BiRnnLayer'):\n",
    "            lstm_fw_cell = rnn.BasicLSTMCell(n_hidden, forget_bias=1.0)\n",
    "            # Backward direction cell\n",
    "            lstm_bw_cell = rnn.BasicLSTMCell(n_hidden, forget_bias=1.0)\n",
    "            #   Get lstm cell output\n",
    "            with tf.variable_scope('BiRnn_Structure'):\n",
    "                try:\n",
    "                    outputs, _, _ = rnn.static_bidirectional_rnn(lstm_fw_cell, \n",
    "                                                                 lstm_bw_cell, x,\n",
    "                                                                 dtype=tf.float32)\n",
    "                except Exception: # Old TensorFlow version only returns outputs not states\n",
    "                    outputs = rnn.static_bidirectional_rnn(lstm_fw_cell, \n",
    "                                                           lstm_bw_cell, x,\n",
    "                                                           dtype=tf.float32)\n",
    "\n",
    "        # Linear activation, using rnn inner loop last output\n",
    "        return tf.add(tf.matmul(outputs[-1], weights['out']), biases['out'])\n",
    "\n",
    "    pred = birnnLayer(x)\n",
    "\n",
    "    # Define loss and optimizer\n",
    "    cross_entropy = tf.reduce_mean(tf.nn.softmax_cross_entropy_with_logits(logits=pred, labels=y))\n",
    "    optimizer = tf.train.AdamOptimizer(learning_rate=learning_rate).minimize(cross_entropy)\n",
    "\n",
    "    # Evaluate model\n",
    "    correct_pred = tf.equal(tf.argmax(pred,1), tf.argmax(y,1))\n",
    "    accuracy = tf.reduce_mean(tf.cast(correct_pred, tf.float32))"
   ]
  },
  {
   "cell_type": "code",
   "execution_count": 30,
   "metadata": {
    "collapsed": false
   },
   "outputs": [
    {
     "name": "stdout",
     "output_type": "stream",
     "text": [
      "Iter 0, Minibatch Loss= 2.148260, Training Accuracy= 0.31250\n",
      "Iter 64000, Minibatch Loss= 0.228522, Training Accuracy= 0.92969\n",
      "Iter 128000, Minibatch Loss= 0.102823, Training Accuracy= 0.96875\n",
      "Iter 192000, Minibatch Loss= 0.168021, Training Accuracy= 0.96094\n",
      "Iter 256000, Minibatch Loss= 0.085315, Training Accuracy= 0.97656\n",
      "Iter 320000, Minibatch Loss= 0.040498, Training Accuracy= 0.98438\n",
      "Iter 384000, Minibatch Loss= 0.009238, Training Accuracy= 1.00000\n",
      "Iter 448000, Minibatch Loss= 0.012013, Training Accuracy= 1.00000\n",
      "Iter 512000, Minibatch Loss= 0.016879, Training Accuracy= 0.99219\n",
      "Iter 576000, Minibatch Loss= 0.006823, Training Accuracy= 1.00000\n",
      "Iter 640000, Minibatch Loss= 0.001968, Training Accuracy= 1.00000\n",
      "Iter 704000, Minibatch Loss= 0.014346, Training Accuracy= 0.99219\n",
      "Iter 768000, Minibatch Loss= 0.007600, Training Accuracy= 1.00000\n",
      "Iter 832000, Minibatch Loss= 0.001743, Training Accuracy= 1.00000\n",
      "Iter 896000, Minibatch Loss= 0.004569, Training Accuracy= 1.00000\n",
      "Iter 960000, Minibatch Loss= 0.003858, Training Accuracy= 1.00000\n",
      "Iter 1024000, Minibatch Loss= 0.003035, Training Accuracy= 1.00000\n",
      "Iter 1088000, Minibatch Loss= 0.003761, Training Accuracy= 1.00000\n",
      "Iter 1152000, Minibatch Loss= 0.002384, Training Accuracy= 1.00000\n",
      "Iter 1216000, Minibatch Loss= 0.000756, Training Accuracy= 1.00000\n",
      "Optimization Finished!\n",
      "Testing Accuracy: 0.992188\n"
     ]
    }
   ],
   "source": [
    "# Launch the graph\n",
    "with tf.Session(graph=graph_biRnn) as sess:\n",
    "    # Initializing the variables\n",
    "    init = tf.global_variables_initializer()\n",
    "    sess.run(init)\n",
    "    # Keep training until reach max iterations\n",
    "    for step in np.arange(num_steps):\n",
    "        batch_x, batch_y = mnist.train.next_batch(batch_size)\n",
    "        # Reshape data to get 28 seq of 28 elements\n",
    "        batch_x = batch_x.reshape((batch_size, n_steps, n_input))\n",
    "        # Run optimization op (backprop)\n",
    "        sess.run(optimizer, feed_dict={x: batch_x, y: batch_y})\n",
    "        if step % display_step == 0:\n",
    "            # Calculate batch accuracy\n",
    "            acc = sess.run(accuracy, feed_dict={x: batch_x, y: batch_y})\n",
    "            # Calculate batch loss\n",
    "            loss = sess.run(cross_entropy, feed_dict={x: batch_x, y: batch_y})\n",
    "            print(\"Iter \" + str(step*batch_size) + \", Minibatch Loss= \" + \\\n",
    "                  \"{:.6f}\".format(loss) + \", Training Accuracy= \" + \\\n",
    "                  \"{:.5f}\".format(acc))\n",
    "\n",
    "    print(\"Optimization Finished!\")\n",
    "\n",
    "    # Calculate accuracy for 128 mnist test images\n",
    "    test_data = mnist.test.images.reshape((-1, n_steps, n_input))\n",
    "    test_label = mnist.test.labels\n",
    "    print(\"Testing Accuracy:\", \\\n",
    "        sess.run(accuracy, feed_dict={x: test_data, y: test_label}))"
   ]
  },
  {
   "cell_type": "markdown",
   "metadata": {},
   "source": [
    "## Generative Adversarial Model"
   ]
  },
  {
   "cell_type": "markdown",
   "metadata": {},
   "source": [
    "This example shows how to use generative adversarial model to create fake MNIST images and try to distinguish them. Referrence: https://github.com/wiseodd/generative-models/tree/master/GAN"
   ]
  },
  {
   "cell_type": "code",
   "execution_count": 18,
   "metadata": {
    "collapsed": true
   },
   "outputs": [],
   "source": [
    "#import required packages\n",
    "import matplotlib.pyplot as plt\n",
    "%matplotlib inline\n",
    "import matplotlib.gridspec as gridspec\n",
    "import os"
   ]
  },
  {
   "cell_type": "markdown",
   "metadata": {},
   "source": [
    "First, define those parameters for discriminator and generator."
   ]
  },
  {
   "cell_type": "code",
   "execution_count": 20,
   "metadata": {
    "collapsed": true
   },
   "outputs": [],
   "source": [
    "#Define xavier initializing method, tries to keep variance concentrated\n",
    "#http://machinelearning.wustl.edu/mlpapers/paper_files/AISTATS2010_GlorotB10.pdf\n",
    "def xavier_init(size):\n",
    "    in_dim = size[0]\n",
    "    xavier_stddev = 1. / tf.sqrt(in_dim / 2.)\n",
    "    return tf.random_normal(shape=size, stddev=xavier_stddev)\n",
    "\n",
    "#Parameters for discriminator\n",
    "X = tf.placeholder(tf.float32, shape=[None, 784])\n",
    "\n",
    "D_W1 = tf.Variable(xavier_init([784, 128]))\n",
    "D_b1 = tf.Variable(tf.zeros(shape=[128]))\n",
    "\n",
    "D_W2 = tf.Variable(xavier_init([128, 1]))\n",
    "D_b2 = tf.Variable(tf.zeros(shape=[1]))\n",
    "\n",
    "theta_D = [D_W1, D_W2, D_b1, D_b2]\n",
    "\n",
    "#Parameters for generator\n",
    "Z = tf.placeholder(tf.float32, shape=[None, 100])\n",
    "\n",
    "G_W1 = tf.Variable(xavier_init([100, 128]))\n",
    "G_b1 = tf.Variable(tf.zeros(shape=[128]))\n",
    "\n",
    "G_W2 = tf.Variable(xavier_init([128, 784]))\n",
    "G_b2 = tf.Variable(tf.zeros(shape=[784]))\n",
    "\n",
    "theta_G = [G_W1, G_W2, G_b1, G_b2]"
   ]
  },
  {
   "cell_type": "markdown",
   "metadata": {},
   "source": [
    "Then define the architecture for generator and discriminator."
   ]
  },
  {
   "cell_type": "code",
   "execution_count": 21,
   "metadata": {
    "collapsed": true
   },
   "outputs": [],
   "source": [
    "def sample_Z(m, n):\n",
    "    return np.random.uniform(-1., 1., size=[m, n])\n",
    "\n",
    "#Generate a digit from random noise\n",
    "#Return a fake digit \n",
    "def generator(z):\n",
    "    G_h1 = tf.nn.relu(tf.matmul(z, G_W1) + G_b1)\n",
    "    G_log_prob = tf.matmul(G_h1, G_W2) + G_b2\n",
    "    G_prob = tf.nn.sigmoid(G_log_prob)\n",
    "\n",
    "    return G_prob\n",
    "\n",
    "#Discriminate the input digit\n",
    "#Return a probability\n",
    "def discriminator(x):\n",
    "    D_h1 = tf.nn.relu(tf.matmul(x, D_W1) + D_b1)\n",
    "    D_logit = tf.matmul(D_h1, D_W2) + D_b2\n",
    "    D_prob = tf.nn.sigmoid(D_logit)\n",
    "\n",
    "    return D_prob, D_logit\n",
    "\n",
    "#Plot the samples\n",
    "def plot(samples):\n",
    "    fig = plt.figure(figsize=(4, 4))\n",
    "    gs = gridspec.GridSpec(4, 4)\n",
    "    gs.update(wspace=0.05, hspace=0.05)\n",
    "\n",
    "    for i, sample in enumerate(samples):\n",
    "        ax = plt.subplot(gs[i])\n",
    "        plt.axis('off')\n",
    "        ax.set_xticklabels([])\n",
    "        ax.set_yticklabels([])\n",
    "        ax.set_aspect('equal')\n",
    "        plt.imshow(sample.reshape(28, 28), cmap='Greys_r')\n",
    "\n",
    "    return fig"
   ]
  },
  {
   "cell_type": "code",
   "execution_count": 22,
   "metadata": {
    "collapsed": true
   },
   "outputs": [],
   "source": [
    "G_sample = generator(Z)\n",
    "#For real digit\n",
    "D_real, D_logit_real = discriminator(X)\n",
    "#For generated digit\n",
    "D_fake, D_logit_fake = discriminator(G_sample)\n",
    "\n",
    "# D_loss = -tf.reduce_mean(tf.log(D_real) + tf.log(1. - D_fake))\n",
    "# G_loss = -tf.reduce_mean(tf.log(D_fake))\n",
    "\n",
    "# Alternative losses:\n",
    "# -------------------\n",
    "D_loss_real = tf.reduce_mean(tf.nn.sigmoid_cross_entropy_with_logits(logits=D_logit_real, \n",
    "                                                                     labels=tf.ones_like(D_logit_real)))\n",
    "D_loss_fake = tf.reduce_mean(tf.nn.sigmoid_cross_entropy_with_logits(logits=D_logit_fake, \n",
    "                                                                     labels=tf.zeros_like(D_logit_fake)))\n",
    "D_loss = D_loss_real + D_loss_fake\n",
    "G_loss = tf.reduce_mean(tf.nn.sigmoid_cross_entropy_with_logits(logits=D_logit_fake, \n",
    "                                                                labels=tf.ones_like(D_logit_fake)))\n",
    "\n",
    "D_solver = tf.train.AdamOptimizer().minimize(D_loss, var_list=theta_D)\n",
    "G_solver = tf.train.AdamOptimizer().minimize(G_loss, var_list=theta_G)\n",
    "\n",
    "mb_size = 128\n",
    "Z_dim = 100"
   ]
  },
  {
   "cell_type": "code",
   "execution_count": 28,
   "metadata": {
    "collapsed": false
   },
   "outputs": [
    {
     "name": "stdout",
     "output_type": "stream",
     "text": [
      "Iter: 0\n",
      "D loss: 0.9787\n",
      "G_loss: 2.71\n",
      "\n",
      "Iter: 1000\n",
      "D loss: 0.003484\n",
      "G_loss: 11.91\n",
      "\n",
      "Iter: 2000\n",
      "D loss: 0.005783\n",
      "G_loss: 6.416\n",
      "\n",
      "Iter: 3000\n",
      "D loss: 0.065\n",
      "G_loss: 6.45\n",
      "\n",
      "Iter: 4000\n",
      "D loss: 0.0915\n",
      "G_loss: 6.034\n",
      "\n",
      "Iter: 5000\n",
      "D loss: 0.1342\n",
      "G_loss: 5.43\n",
      "\n",
      "Iter: 6000\n",
      "D loss: 0.3739\n",
      "G_loss: 4.435\n",
      "\n",
      "Iter: 7000\n",
      "D loss: 0.6105\n",
      "G_loss: 4.666\n",
      "\n",
      "Iter: 8000\n",
      "D loss: 0.3533\n",
      "G_loss: 3.829\n",
      "\n",
      "Iter: 9000\n",
      "D loss: 0.4286\n",
      "G_loss: 3.31\n",
      "\n"
     ]
    }
   ],
   "source": [
    "sess = tf.Session()\n",
    "sess.run(tf.global_variables_initializer())\n",
    "\n",
    "if not os.path.exists('out/'):\n",
    "    os.makedirs('out/')\n",
    "\n",
    "i = 0\n",
    "\n",
    "for it in np.arange(10000):\n",
    "    if it % 1000 == 0:\n",
    "        samples = sess.run(G_sample, feed_dict={Z: sample_Z(16, Z_dim)})\n",
    "\n",
    "        fig = plot(samples)\n",
    "        plt.savefig('out/{}.png'.format(str(i).zfill(3)), bbox_inches='tight')\n",
    "        i += 1\n",
    "        plt.close(fig)\n",
    "\n",
    "    X_mb, _ = mnist.train.next_batch(mb_size)\n",
    "\n",
    "    _, D_loss_curr = sess.run([D_solver, D_loss], feed_dict={X: X_mb, Z: sample_Z(mb_size, Z_dim)})\n",
    "    _, G_loss_curr = sess.run([G_solver, G_loss], feed_dict={Z: sample_Z(mb_size, Z_dim)})\n",
    "\n",
    "    if it % 1000 == 0:\n",
    "        print('Iter: {}'.format(it))\n",
    "        print('D loss: {:.4}'. format(D_loss_curr))\n",
    "        print('G_loss: {:.4}'.format(G_loss_curr))\n",
    "        print()"
   ]
  },
  {
   "cell_type": "code",
   "execution_count": 26,
   "metadata": {
    "collapsed": false
   },
   "outputs": [
    {
     "data": {
      "image/png": "[encoded data removed]",
      "text/plain": [
       "<matplotlib.figure.Figure at 0x145bc9c18>"
      ]
     },
     "execution_count": 26,
     "metadata": {},
     "output_type": "execute_result"
    }
   ],
   "source": [
    "fig"
   ]
  },
  {
   "cell_type": "code",
   "execution_count": null,
   "metadata": {
    "collapsed": true
   },
   "outputs": [],
   "source": []
  }
 ],
 "metadata": {
  "kernelspec": {
   "display_name": "Python 3",
   "language": "python",
   "name": "python3"
  },
  "language_info": {
   "codemirror_mode": {
    "name": "ipython",
    "version": 3
   },
   "file_extension": ".py",
   "mimetype": "text/x-python",
   "name": "python",
   "nbconvert_exporter": "python",
   "pygments_lexer": "ipython3",
   "version": "3.6.0"
  }
 },
 "nbformat": 4,
 "nbformat_minor": 2
}
